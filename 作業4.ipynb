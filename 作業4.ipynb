{
 "cells": [
  {
   "cell_type": "code",
   "execution_count": 1,
   "id": "20072071",
   "metadata": {},
   "outputs": [
    {
     "name": "stdout",
     "output_type": "stream",
     "text": [
      "國際太空站位置: -43.2166 -128.7142\n"
     ]
    }
   ],
   "source": [
    "import requests\n",
    "\n",
    "iss= requests.get('http://api.open-notify.org/iss-now.json')\n",
    "\n",
    "#iss.json() 先存成字典 再抓資料\n",
    "\n",
    "#print(iss.json()['iss_position'])  字典中再取字典\n",
    "\n",
    "print('國際太空站位置:',iss.json()['iss_position']['latitude'],iss.json()['iss_position']['longitude'])"
   ]
  },
  {
   "cell_type": "code",
   "execution_count": 2,
   "id": "cc286dae",
   "metadata": {},
   "outputs": [
    {
     "name": "stdout",
     "output_type": "stream",
     "text": [
      "0.529\n",
      "0.448\n"
     ]
    },
    {
     "data": {
      "image/png": "[encoded data removed]",
      "text/plain": [
       "<Figure size 432x288 with 1 Axes>"
      ]
     },
     "metadata": {
      "needs_background": "light"
     },
     "output_type": "display_data"
    }
   ],
   "source": [
    "from sklearn import datasets\n",
    "data = datasets.load_diabetes().data\n",
    "target = datasets.load_diabetes().target\n",
    "\n",
    "\n",
    "from sklearn.model_selection import train_test_split #分割資料集的函式\n",
    "data_train, data_test, target_train, target_test = train_test_split(data,target,test_size=0.2)\n",
    "\n",
    "\n",
    "from sklearn.linear_model import LinearRegression\n",
    "#匯入scikit-learn的線性回歸模型\n",
    "regr_model = LinearRegression()          #建立模型物件\n",
    "regr_model.fit(data_train,target_train)  #放訓練!!     #用訓練集來訓練模型\n",
    "\n",
    "\n",
    "#決定係數(coefficient of determination)\n",
    "print(regr_model.score(data_train,target_train).round(3)) #訓練集\n",
    "print(regr_model.score(data_test,target_test).round(3))   #測試集\n",
    "\n",
    "\n",
    "#殘差圖\n",
    "import numpy as np\n",
    "import matplotlib.pyplot as plt\n",
    "\n",
    "predictions = regr_model.predict(data_test) \n",
    "\n",
    "x = np.arange(predictions.size)\n",
    "y = x*0                                       #數量一樣才能畫圖\n",
    "              \n",
    "plt.scatter(x,predictions-target_test)\n",
    "plt.plot(x,y,color='yellow')\n",
    "plt.show()\n"
   ]
  },
  {
   "cell_type": "code",
   "execution_count": null,
   "id": "86f193f8",
   "metadata": {},
   "outputs": [],
   "source": []
  }
 ],
 "metadata": {
  "kernelspec": {
   "display_name": "Python 3",
   "language": "python",
   "name": "python3"
  },
  "language_info": {
   "codemirror_mode": {
    "name": "ipython",
    "version": 3
   },
   "file_extension": ".py",
   "mimetype": "text/x-python",
   "name": "python",
   "nbconvert_exporter": "python",
   "pygments_lexer": "ipython3",
   "version": "3.8.8"
  }
 },
 "nbformat": 4,
 "nbformat_minor": 5
}
