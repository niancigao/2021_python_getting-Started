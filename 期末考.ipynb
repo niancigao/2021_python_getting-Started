{
 "cells": [
  {
   "cell_type": "code",
   "execution_count": 1,
   "id": "0a5602fd",
   "metadata": {},
   "outputs": [
    {
     "name": "stdout",
     "output_type": "stream",
     "text": [
      "B107610030.0\n"
     ]
    }
   ],
   "source": [
    "# Don't modify variables!\n",
    "var1 = 8     # Don't modify!\n",
    "var2 = 80    # Don't modify!\n",
    "var3 = 5     # Don't modify!\n",
    "var4 = 180   # Don't modify!\n",
    "plus = 2     # Don't modify!\n",
    "minus = 4    # Don't modify!\n",
    "mult = 20    # Don't modify!\n",
    "div = 6      # Don't modify!\n",
    "\n",
    "# Please simplify four expressions.\n",
    "var1 += plus\n",
    "var2 -= minus\n",
    "var3 *= mult\n",
    "var4 /= div\n",
    "\n",
    "print(\"B\",var1, var2, var3, var4, sep = '')  # Don't modify!"
   ]
  },
  {
   "cell_type": "code",
   "execution_count": 2,
   "id": "c93e81e6",
   "metadata": {},
   "outputs": [
    {
     "name": "stdout",
     "output_type": "stream",
     "text": [
      "Input Grade 1: 65\n",
      "Input Grade 2: 35\n",
      "50.0\n"
     ]
    }
   ],
   "source": [
    "# Please finish the pygrade function codes.\n",
    "# Output code: print('Grade average:', avg)\n",
    "\n",
    "def pygrade(A,B):\n",
    "    print((A+B)/2)\n",
    "\n",
    "\n",
    "# Don't modify the following codes.\n",
    "A = int(input('Input Grade 1: ')) # Don't modify!\n",
    "B = int(input('Input Grade 2: ')) # Don't modify!\n",
    "pygrade(A, B) # Don't modify!"
   ]
  },
  {
   "cell_type": "code",
   "execution_count": 7,
   "id": "240cfd63",
   "metadata": {},
   "outputs": [
    {
     "name": "stdout",
     "output_type": "stream",
     "text": [
      "2022/01/10 11:08:40\n"
     ]
    }
   ],
   "source": [
    "# Please input what library you should import for JSON.\n",
    "import requests \n",
    "\n",
    "url = 'http://worldtimeapi.org/api/ip' # Don't modify!\n",
    "# Please finish the code, and assign 'datetime' key for date_time.\n",
    "\n",
    "data = requests.get(url).json()\n",
    "date_time=data['datetime']\n",
    "\n",
    "year = date_time[0:4]      # Don't modify!\n",
    "month = date_time[5:7]     # Don't modify!\n",
    "day = date_time[8:10]      # Don't modify!\n",
    "hour = date_time[11:13]    # Don't modify!\n",
    "minute = date_time[14:16]  # Don't modify!\n",
    "second = date_time[17:19]  # Don't modify!\n",
    "\n",
    "print(f'{year}/{month}/{day} {hour}:{minute}:{second}')  # Don't modify!"
   ]
  },
  {
   "cell_type": "code",
   "execution_count": null,
   "id": "ca30747c",
   "metadata": {},
   "outputs": [],
   "source": []
  }
 ],
 "metadata": {
  "kernelspec": {
   "display_name": "Python 3",
   "language": "python",
   "name": "python3"
  },
  "language_info": {
   "codemirror_mode": {
    "name": "ipython",
    "version": 3
   },
   "file_extension": ".py",
   "mimetype": "text/x-python",
   "name": "python",
   "nbconvert_exporter": "python",
   "pygments_lexer": "ipython3",
   "version": "3.8.8"
  }
 },
 "nbformat": 4,
 "nbformat_minor": 5
}
