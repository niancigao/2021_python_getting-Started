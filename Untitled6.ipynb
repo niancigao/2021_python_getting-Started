{
 "cells": [
  {
   "cell_type": "code",
   "execution_count": null,
   "id": "7353f63c",
   "metadata": {},
   "outputs": [],
   "source": [
    "import random\n",
    "\n",
    "a=input('剪刀-石頭-布:')\n",
    "d={3:'剪刀',4:'石頭',5:'布'}\n",
    "\n",
    "b={1:'剪刀',2:'石頭',3:'布'}\n",
    "c=random.choice(b)\n",
    "\n",
    "if a=c:\n",
    "    print('此局平局')\n",
    "elif a\n",
    "    print('玩家獲勝')\n",
    "else:\n",
    "    print('玩家敗北')\n",
    "\n"
   ]
  }
 ],
 "metadata": {
  "kernelspec": {
   "display_name": "Python 3",
   "language": "python",
   "name": "python3"
  },
  "language_info": {
   "codemirror_mode": {
    "name": "ipython",
    "version": 3
   },
   "file_extension": ".py",
   "mimetype": "text/x-python",
   "name": "python",
   "nbconvert_exporter": "python",
   "pygments_lexer": "ipython3",
   "version": "3.8.8"
  }
 },
 "nbformat": 4,
 "nbformat_minor": 5
}
