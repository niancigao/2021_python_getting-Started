{
 "cells": [
  {
   "cell_type": "code",
   "execution_count": 1,
   "id": "becc18ec",
   "metadata": {},
   "outputs": [
    {
     "name": "stdout",
     "output_type": "stream",
     "text": [
      "請輸入大於 1 的整數:125468795321\n",
      "125468795321 不是質數\n"
     ]
    }
   ],
   "source": [
    "n = int(input('請輸入大於 1 的整數:'))\n",
    "\n",
    "for c in range(2,n):\n",
    "    if n % c == 0:\n",
    "        print(n,'不是質數')\n",
    "        break    \n",
    "    elif c == n-1:\n",
    "        print(n,'是質數')\n",
    "\n",
    "if n == 2:\n",
    "    print(n,'是質數')"
   ]
  },
  {
   "cell_type": "code",
   "execution_count": 2,
   "id": "3af4114f",
   "metadata": {},
   "outputs": [
    {
     "name": "stdout",
     "output_type": "stream",
     "text": [
      "剪刀-石頭-布: 剪刀\n"
     ]
    },
    {
     "ename": "KeyError",
     "evalue": "0",
     "output_type": "error",
     "traceback": [
      "\u001b[1;31m---------------------------------------------------------------------------\u001b[0m",
      "\u001b[1;31mKeyError\u001b[0m                                  Traceback (most recent call last)",
      "\u001b[1;32m<ipython-input-2-b67010e51546>\u001b[0m in \u001b[0;36m<module>\u001b[1;34m\u001b[0m\n\u001b[0;32m      5\u001b[0m \u001b[1;33m\u001b[0m\u001b[0m\n\u001b[0;32m      6\u001b[0m \u001b[0mb\u001b[0m\u001b[1;33m=\u001b[0m\u001b[1;33m{\u001b[0m\u001b[1;36m1\u001b[0m\u001b[1;33m:\u001b[0m\u001b[1;34m'剪刀'\u001b[0m\u001b[1;33m,\u001b[0m\u001b[1;36m2\u001b[0m\u001b[1;33m:\u001b[0m\u001b[1;34m'石頭'\u001b[0m\u001b[1;33m,\u001b[0m\u001b[1;36m3\u001b[0m\u001b[1;33m:\u001b[0m\u001b[1;34m'布'\u001b[0m\u001b[1;33m}\u001b[0m\u001b[1;33m\u001b[0m\u001b[1;33m\u001b[0m\u001b[0m\n\u001b[1;32m----> 7\u001b[1;33m \u001b[0mc\u001b[0m\u001b[1;33m=\u001b[0m\u001b[0mrandom\u001b[0m\u001b[1;33m.\u001b[0m\u001b[0mchoice\u001b[0m\u001b[1;33m(\u001b[0m\u001b[0mb\u001b[0m\u001b[1;33m)\u001b[0m\u001b[1;33m\u001b[0m\u001b[1;33m\u001b[0m\u001b[0m\n\u001b[0m\u001b[0;32m      8\u001b[0m \u001b[0mprint\u001b[0m\u001b[1;33m(\u001b[0m\u001b[0mc\u001b[0m\u001b[1;33m)\u001b[0m\u001b[1;33m\u001b[0m\u001b[1;33m\u001b[0m\u001b[0m\n\u001b[0;32m      9\u001b[0m \u001b[1;33m\u001b[0m\u001b[0m\n",
      "\u001b[1;32m~\\anaconda3\\lib\\random.py\u001b[0m in \u001b[0;36mchoice\u001b[1;34m(self, seq)\u001b[0m\n\u001b[0;32m    289\u001b[0m         \u001b[1;32mexcept\u001b[0m \u001b[0mValueError\u001b[0m\u001b[1;33m:\u001b[0m\u001b[1;33m\u001b[0m\u001b[1;33m\u001b[0m\u001b[0m\n\u001b[0;32m    290\u001b[0m             \u001b[1;32mraise\u001b[0m \u001b[0mIndexError\u001b[0m\u001b[1;33m(\u001b[0m\u001b[1;34m'Cannot choose from an empty sequence'\u001b[0m\u001b[1;33m)\u001b[0m \u001b[1;32mfrom\u001b[0m \u001b[1;32mNone\u001b[0m\u001b[1;33m\u001b[0m\u001b[1;33m\u001b[0m\u001b[0m\n\u001b[1;32m--> 291\u001b[1;33m         \u001b[1;32mreturn\u001b[0m \u001b[0mseq\u001b[0m\u001b[1;33m[\u001b[0m\u001b[0mi\u001b[0m\u001b[1;33m]\u001b[0m\u001b[1;33m\u001b[0m\u001b[1;33m\u001b[0m\u001b[0m\n\u001b[0m\u001b[0;32m    292\u001b[0m \u001b[1;33m\u001b[0m\u001b[0m\n\u001b[0;32m    293\u001b[0m     \u001b[1;32mdef\u001b[0m \u001b[0mshuffle\u001b[0m\u001b[1;33m(\u001b[0m\u001b[0mself\u001b[0m\u001b[1;33m,\u001b[0m \u001b[0mx\u001b[0m\u001b[1;33m,\u001b[0m \u001b[0mrandom\u001b[0m\u001b[1;33m=\u001b[0m\u001b[1;32mNone\u001b[0m\u001b[1;33m)\u001b[0m\u001b[1;33m:\u001b[0m\u001b[1;33m\u001b[0m\u001b[1;33m\u001b[0m\u001b[0m\n",
      "\u001b[1;31mKeyError\u001b[0m: 0"
     ]
    }
   ],
   "source": [
    "import random\n",
    "\n",
    "a=input('剪刀-石頭-布: ')\n",
    "d={6:'剪刀',4:'石頭',5:'布'}\n",
    "\n",
    "b={1:'剪刀',2:'石頭',3:'布'}\n",
    "c=random.choice(b)\n",
    "print(c)\n",
    "\n",
    "if  a==c:\n",
    "    print('此局平局')\n",
    "    \n",
    "    \n",
    "elif (a==d[6] and c==b[3]) or (a==d[4] and c==b[1]) or (a==d[5] and c==b[2]):\n",
    "    print('玩家獲勝')\n",
    "else:\n",
    "    print('玩家敗北')"
   ]
  },
  {
   "cell_type": "code",
   "execution_count": 56,
   "id": "2ae8dc4a",
   "metadata": {},
   "outputs": [
    {
     "name": "stdout",
     "output_type": "stream",
     "text": [
      "剪刀-石頭-布: 剪刀\n",
      "剪刀\n",
      "此局平局\n",
      "剪刀-石頭-布: 剪刀\n",
      "剪刀\n",
      "此局平局\n",
      "剪刀-石頭-布: 剪刀\n",
      "布\n",
      "玩家獲勝\n"
     ]
    }
   ],
   "source": [
    "import random\n",
    "\n",
    "a=input('剪刀-石頭-布: ')\n",
    "d={6:'剪刀',4:'石頭',5:'布'}\n",
    "\n",
    "b=['剪刀','石頭','布']\n",
    "c=random.choice(b)\n",
    "print(c)\n",
    "\n",
    "while a==c:\n",
    "    print('此局平局')\n",
    "    a=input('剪刀-石頭-布: ')\n",
    "    d={6:'剪刀',4:'石頭',5:'布'}\n",
    "\n",
    "    b=['剪刀','石頭','布']\n",
    "    c=random.choice(b)\n",
    "    print(c)\n",
    "if (a==d[6] and c==b[2]) or (a==d[4] and c==b[0]) or (a==d[5] and c==b[1]):\n",
    "    print('玩家獲勝')\n",
    "else:\n",
    "    print('玩家敗北')"
   ]
  },
  {
   "cell_type": "code",
   "execution_count": null,
   "id": "31432dbb",
   "metadata": {},
   "outputs": [],
   "source": []
  }
 ],
 "metadata": {
  "kernelspec": {
   "display_name": "Python 3",
   "language": "python",
   "name": "python3"
  },
  "language_info": {
   "codemirror_mode": {
    "name": "ipython",
    "version": 3
   },
   "file_extension": ".py",
   "mimetype": "text/x-python",
   "name": "python",
   "nbconvert_exporter": "python",
   "pygments_lexer": "ipython3",
   "version": "3.8.8"
  }
 },
 "nbformat": 4,
 "nbformat_minor": 5
}
