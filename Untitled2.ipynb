{
 "cells": [
  {
   "cell_type": "code",
   "execution_count": 5,
   "id": "aae8ada0",
   "metadata": {},
   "outputs": [
    {
     "name": "stdout",
     "output_type": "stream",
     "text": [
      "扣款成功\n",
      "帳戶餘額 700\n"
     ]
    }
   ],
   "source": [
    "balance = 1000\n",
    "if balance > 0 :\n",
    "    balance = balance - 300\n",
    "    print('扣款成功')\n",
    "    \n",
    "print('帳戶餘額',balance)\n",
    "    "
   ]
  },
  {
   "cell_type": "code",
   "execution_count": 11,
   "id": "425dcaeb",
   "metadata": {},
   "outputs": [
    {
     "name": "stdout",
     "output_type": "stream",
     "text": [
      "該打電話了\n",
      "帳戶餘額 -100\n"
     ]
    }
   ],
   "source": [
    "balance = -100\n",
    "if balance > 0 :\n",
    "    balance = balance - 300\n",
    "    print('扣款成功')\n",
    "else:\n",
    "    print(\"該打電話了\")\n",
    "    \n",
    "print('帳戶餘額',balance)    "
   ]
  },
  {
   "cell_type": "code",
   "execution_count": 7,
   "id": "16ee4e9f",
   "metadata": {},
   "outputs": [
    {
     "name": "stdout",
     "output_type": "stream",
     "text": [
      "太熱了，開冷氣\n"
     ]
    }
   ],
   "source": [
    "temp=31\n",
    "if temp>27:\n",
    "    print(\"太熱了，開冷氣\")\n",
    "else:\n",
    "    print(\"沒那麼熱，省省吧\")"
   ]
  },
  {
   "cell_type": "code",
   "execution_count": 102,
   "id": "7aafa340",
   "metadata": {},
   "outputs": [
    {
     "name": "stdout",
     "output_type": "stream",
     "text": [
      "輸入溫度(阿拉伯數字即可)25.6\n",
      "沒那麼熱，省省吧\n"
     ]
    }
   ],
   "source": [
    "temp=float(input(\"輸入溫度(阿拉伯數字即可)\"))\n",
    "\n",
    "if temp>27:\n",
    "    print(\"太熱了，開冷氣\")\n",
    "else:\n",
    "    print(\"沒那麼熱，省省吧\")"
   ]
  },
  {
   "cell_type": "code",
   "execution_count": 14,
   "id": "69ef1e78",
   "metadata": {},
   "outputs": [
    {
     "name": "stdout",
     "output_type": "stream",
     "text": [
      "10.5\n"
     ]
    }
   ],
   "source": [
    "value1=42\n",
    "value2=4\n",
    "if value2==0:\n",
    "    print(\"不合法\")\n",
    "else:\n",
    "    print(value1/value2)"
   ]
  },
  {
   "cell_type": "code",
   "execution_count": 18,
   "id": "6dc595bf",
   "metadata": {},
   "outputs": [
    {
     "data": {
      "text/plain": [
       "True"
      ]
     },
     "execution_count": 18,
     "metadata": {},
     "output_type": "execute_result"
    }
   ],
   "source": [
    "temp = 32\n",
    "temp > 27"
   ]
  },
  {
   "cell_type": "code",
   "execution_count": 24,
   "id": "4edc5d3c",
   "metadata": {},
   "outputs": [
    {
     "data": {
      "text/plain": [
       "False"
      ]
     },
     "execution_count": 24,
     "metadata": {},
     "output_type": "execute_result"
    }
   ],
   "source": [
    "temp > 35"
   ]
  },
  {
   "cell_type": "code",
   "execution_count": 25,
   "id": "09c715e6",
   "metadata": {},
   "outputs": [
    {
     "data": {
      "text/plain": [
       "bool"
      ]
     },
     "execution_count": 25,
     "metadata": {},
     "output_type": "execute_result"
    }
   ],
   "source": [
    "type(True)"
   ]
  },
  {
   "cell_type": "markdown",
   "id": "4ea9db66",
   "metadata": {},
   "source": [
    "指派: ="
   ]
  },
  {
   "cell_type": "code",
   "execution_count": 34,
   "id": "adafd408",
   "metadata": {},
   "outputs": [
    {
     "name": "stdout",
     "output_type": "stream",
     "text": [
      "輸入任意數65\n",
      "奇數\n"
     ]
    }
   ],
   "source": [
    "x=float(input(\"輸入任意數\"))\n",
    "if x%2==0:\n",
    "    print(\"偶數\")\n",
    "elif x%2==1:\n",
    "    print(\"奇數\")\n",
    "else:\n",
    "    print(\"小數\")"
   ]
  },
  {
   "cell_type": "code",
   "execution_count": 37,
   "id": "ec631450",
   "metadata": {},
   "outputs": [
    {
     "data": {
      "text/plain": [
       "False"
      ]
     },
     "execution_count": 37,
     "metadata": {},
     "output_type": "execute_result"
    }
   ],
   "source": [
    "x=12\n",
    "x==5"
   ]
  },
  {
   "cell_type": "code",
   "execution_count": 49,
   "id": "d914b5b4",
   "metadata": {},
   "outputs": [
    {
     "name": "stdout",
     "output_type": "stream",
     "text": [
      "True True True False\n",
      "True\n",
      "False\n",
      "False\n",
      "False\n",
      "True\n"
     ]
    }
   ],
   "source": [
    "x=5\n",
    "y=10\n",
    "z=15\n",
    "print(x>3,y>=10,z!=12,z<=12)\n",
    "print(3<x<7)\n",
    "print(3<x<2)\n",
    "print(x<=z<=y)\n",
    "print(x>2 and x >5)\n",
    "print(x>2 or x >5)"
   ]
  },
  {
   "cell_type": "markdown",
   "id": "fa2d45f4",
   "metadata": {},
   "source": [
    "In[ ]裡面要是出現*代表還沒跑完，可按終止重跑"
   ]
  },
  {
   "cell_type": "code",
   "execution_count": 73,
   "id": "8008a727",
   "metadata": {},
   "outputs": [
    {
     "name": "stdout",
     "output_type": "stream",
     "text": [
      "False\n",
      "True\n",
      "True\n",
      "True\n",
      "False\n"
     ]
    }
   ],
   "source": [
    "print(\"finn\"<\"Jack\")\n",
    "print('marceline'>='bubblegum')\n",
    "print('bmo'!='Bce king')\n",
    "print('bmo'!='Bce')\n",
    "print('2'>'4')"
   ]
  },
  {
   "cell_type": "markdown",
   "id": "7e4e80a7",
   "metadata": {},
   "source": [
    "英文分大小寫(在比較大小時)\n",
    "\n",
    "小寫字母比較大\n",
    "\n",
    "中間突然插入數字時，其實能比"
   ]
  },
  {
   "cell_type": "markdown",
   "id": "549ec636",
   "metadata": {},
   "source": [
    "第一個要是一樣，就會開始比較第二個英文字母"
   ]
  },
  {
   "cell_type": "code",
   "execution_count": 60,
   "id": "9ff61aa7",
   "metadata": {},
   "outputs": [
    {
     "name": "stdout",
     "output_type": "stream",
     "text": [
      "True\n",
      "True\n"
     ]
    }
   ],
   "source": [
    "print(x>3 and y>5)\n",
    "print(y>x or y>z)"
   ]
  },
  {
   "cell_type": "code",
   "execution_count": 62,
   "id": "a212ffa7",
   "metadata": {},
   "outputs": [
    {
     "name": "stdout",
     "output_type": "stream",
     "text": [
      "False\n"
     ]
    }
   ],
   "source": [
    "print(not z==15)"
   ]
  },
  {
   "cell_type": "markdown",
   "id": "264ba04e",
   "metadata": {},
   "source": [
    "not 反轉(z從15變成不是15)"
   ]
  },
  {
   "cell_type": "code",
   "execution_count": 63,
   "id": "d3b9a9bb",
   "metadata": {},
   "outputs": [
    {
     "name": "stdout",
     "output_type": "stream",
     "text": [
      "False\n"
     ]
    }
   ],
   "source": [
    "tobe=True\n",
    "tobe=not tobe\n",
    "print(tobe)"
   ]
  },
  {
   "cell_type": "code",
   "execution_count": 65,
   "id": "e322993b",
   "metadata": {},
   "outputs": [
    {
     "name": "stdout",
     "output_type": "stream",
     "text": [
      "True\n",
      "False\n",
      "True\n"
     ]
    }
   ],
   "source": [
    "x=5\n",
    "y=10\n",
    "z=15\n",
    "print(x>3 and y>7 and z>12)\n",
    "print((x%2==0) and (y%2==0) or (z%2==0))\n",
    "print(x>7 or not y>12 and z>10)"
   ]
  },
  {
   "cell_type": "code",
   "execution_count": 66,
   "id": "2555a5e8",
   "metadata": {},
   "outputs": [
    {
     "name": "stdout",
     "output_type": "stream",
     "text": [
      "該打電話了，負債了!\n",
      "帳戶餘額 -100\n"
     ]
    }
   ],
   "source": [
    "balance = -100\n",
    "if balance > 0 :\n",
    "    balance = balance - 300\n",
    "    print('扣款成功')\n",
    "if balance <= 0:\n",
    "    print(\"該打電話了，負債了!\")\n",
    "    \n",
    "print('帳戶餘額',balance)  "
   ]
  },
  {
   "cell_type": "code",
   "execution_count": 69,
   "id": "dac70e6a",
   "metadata": {},
   "outputs": [
    {
     "name": "stdout",
     "output_type": "stream",
     "text": [
      "該打電話了，負債了!\n",
      "帳戶餘額 -100\n"
     ]
    }
   ],
   "source": [
    "balance = -100\n",
    "if balance > 0 :\n",
    "    balance = balance - 300\n",
    "    print('扣款成功')\n",
    "else:\n",
    "    print(\"該打電話了，負債了!\")\n",
    "    \n",
    "print('帳戶餘額',balance)  "
   ]
  },
  {
   "cell_type": "code",
   "execution_count": 68,
   "id": "da1b3ba8",
   "metadata": {},
   "outputs": [
    {
     "name": "stdout",
     "output_type": "stream",
     "text": [
      "please input an integer a: -88\n",
      "please input an integer b: 2.5\n",
      "please input an integer c: 684\n",
      "有二個實數解:\n",
      "-2.7737927719471127\n",
      "2.802201862856204\n"
     ]
    }
   ],
   "source": [
    "import math\n",
    "while True:\n",
    "    a = float(input(\"please input an integer a: \"))\n",
    "    if a == 0:\n",
    "        print('a 不可為 0 ! 請重新輸入')\n",
    "    else:\n",
    "        break #stops the while loop\n",
    "b = float(input(\"please input an integer b: \"))\n",
    "c = float(input(\"please input an integer c: \"))\n",
    "D=(b**2-4*a*c)\n",
    "if D<0:\n",
    "    print('無實數解')\n",
    "elif D==0:\n",
    "    print('有一實數解:')\n",
    "    print(b*(-1)/(a*2))\n",
    "else:\n",
    "    print('有二個實數解:')\n",
    "    print((-b+math.sqrt(D))/(2*a))\n",
    "    print((-b-math.sqrt(D))/(2*a))"
   ]
  },
  {
   "cell_type": "code",
   "execution_count": 70,
   "id": "74671458",
   "metadata": {},
   "outputs": [
    {
     "name": "stdout",
     "output_type": "stream",
     "text": [
      "繳電話費\n",
      "帳戶餘額: 1501\n"
     ]
    }
   ],
   "source": [
    "account=2000\n",
    "pay='電話費'\n",
    "if pay==\"水電費\":\n",
    "    account=account-1200\n",
    "    print('繳水電費')\n",
    "elif pay=='瓦斯費':\n",
    "    account=account-300\n",
    "    print('繳瓦斯費')\n",
    "elif pay=='電話費':\n",
    "    account=account-499\n",
    "    print('繳電話費')\n",
    "else:\n",
    "    print('無法辨識項目')\n",
    "    \n",
    "print('帳戶餘額:',account)\n",
    "\n"
   ]
  },
  {
   "cell_type": "code",
   "execution_count": 82,
   "id": "abe85e69",
   "metadata": {},
   "outputs": [
    {
     "name": "stdout",
     "output_type": "stream",
     "text": [
      "水電費、瓦斯費、電話費:水電費\n",
      "繳水電費\n",
      "帳戶餘額: 800\n"
     ]
    }
   ],
   "source": [
    "account=2000\n",
    "pay=input('水電費、瓦斯費、電話費:')\n",
    "if pay==\"水電費\":\n",
    "    account=account-1200\n",
    "    print('繳水電費')\n",
    "elif pay=='瓦斯費':\n",
    "    account=account-300\n",
    "    print('繳瓦斯費')\n",
    "elif pay=='電話費':\n",
    "    account=account-499\n",
    "    print('繳電話費')\n",
    "else:\n",
    "    print('無法辨識項目')\n",
    "    \n",
    "print('帳戶餘額:',account)"
   ]
  },
  {
   "cell_type": "code",
   "execution_count": 101,
   "id": "8f304397",
   "metadata": {},
   "outputs": [
    {
     "name": "stdout",
     "output_type": "stream",
     "text": [
      "輸入成績(限100以下正數):-5\n",
      "成績評鑑\n",
      "輸入錯誤\n"
     ]
    }
   ],
   "source": [
    "grade=float(input('輸入成績(限100以下正數):'))\n",
    "\n",
    "print('成績評鑑')\n",
    "if grade>=90 and grade<=100:\n",
    "    print('優等')\n",
    "elif grade>=80 and grade<=100:\n",
    "    print('甲等')\n",
    "elif grade>=70 and grade<=100:\n",
    "    print('乙等')\n",
    "elif grade>=60 and grade<=100:\n",
    "    print('丙等')\n",
    "elif grade<60 and grade>=0 and grade<=100:\n",
    "    print('丁等，不及格')\n",
    "else:\n",
    "    print('輸入錯誤')\n",
    "    "
   ]
  },
  {
   "cell_type": "code",
   "execution_count": 103,
   "id": "5eb0e187",
   "metadata": {},
   "outputs": [
    {
     "name": "stdout",
     "output_type": "stream",
     "text": [
      "555\n",
      "你剛才輸入: 555\n"
     ]
    }
   ],
   "source": [
    "data=input()\n",
    "print('你剛才輸入:',data)"
   ]
  },
  {
   "cell_type": "code",
   "execution_count": 105,
   "id": "0d1d0685",
   "metadata": {},
   "outputs": [
    {
     "name": "stdout",
     "output_type": "stream",
     "text": [
      "5\n"
     ]
    }
   ],
   "source": [
    "import random\n",
    "print(random.randint(1,10))"
   ]
  },
  {
   "cell_type": "code",
   "execution_count": 107,
   "id": "f1e2380b",
   "metadata": {},
   "outputs": [
    {
     "name": "stdout",
     "output_type": "stream",
     "text": [
      "4\n"
     ]
    }
   ],
   "source": [
    "import random\n",
    "print(random.randint(1,10))"
   ]
  },
  {
   "cell_type": "code",
   "execution_count": 121,
   "id": "61c7db0f",
   "metadata": {},
   "outputs": [
    {
     "name": "stdout",
     "output_type": "stream",
     "text": [
      "丟出骰子點數:\n",
      "3\n"
     ]
    }
   ],
   "source": [
    "import random\n",
    "dice=random.randint(1,6)\n",
    "print('丟出骰子點數:')\n",
    "if dice==1:\n",
    "    print('1')\n",
    "elif dice==2:\n",
    "    print('2')\n",
    "elif dice==3:\n",
    "    print('3')\n",
    "elif dice==4:\n",
    "    print('4')\n",
    "elif dice==5:\n",
    "    print('5')\n",
    "else:\n",
    "    print('6')"
   ]
  },
  {
   "cell_type": "markdown",
   "id": "efc97d21",
   "metadata": {},
   "source": [
    "一次丟出好幾次該怎麼打?"
   ]
  },
  {
   "cell_type": "code",
   "execution_count": null,
   "id": "9825d951",
   "metadata": {},
   "outputs": [],
   "source": []
  }
 ],
 "metadata": {
  "kernelspec": {
   "display_name": "Python 3",
   "language": "python",
   "name": "python3"
  },
  "language_info": {
   "codemirror_mode": {
    "name": "ipython",
    "version": 3
   },
   "file_extension": ".py",
   "mimetype": "text/x-python",
   "name": "python",
   "nbconvert_exporter": "python",
   "pygments_lexer": "ipython3",
   "version": "3.8.8"
  }
 },
 "nbformat": 4,
 "nbformat_minor": 5
}
