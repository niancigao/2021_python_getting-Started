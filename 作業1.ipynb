{
 "cells": [
  {
   "cell_type": "code",
   "execution_count": 2,
   "id": "996107f2",
   "metadata": {},
   "outputs": [
    {
     "name": "stdout",
     "output_type": "stream",
     "text": [
      "計算1至該正整數的合，請輸入一個正整數:100\n",
      "5050\n"
     ]
    }
   ],
   "source": [
    "x = float(input('計算1至該正整數的合，請輸入一個正整數:'))\n",
    "\n",
    "if (x%2==0 or x%2==1) and x>=0:\n",
    "    x=int(x)\n",
    "    c = sum(b for b in range(1,x+1))\n",
    "        \n",
    "    print(c)\n",
    "\n",
    "else:\n",
    "    print('輸入錯誤')"
   ]
  },
  {
   "cell_type": "code",
   "execution_count": 40,
   "id": "e1951b47",
   "metadata": {},
   "outputs": [
    {
     "name": "stdout",
     "output_type": "stream",
     "text": [
      "計算1至該正整數的合，請輸入一個正整數:100\n",
      "5050.0\n"
     ]
    }
   ],
   "source": [
    "a = float(input('計算1至該正整數的合，請輸入一個正整數:'))\n",
    "\n",
    "if (a%2==0 or a%2==1) and a>=0:\n",
    "    a = ((1+int(a))*int(a)/2)\n",
    "    print(a)\n",
    "else:\n",
    "    print('輸入錯誤')"
   ]
  },
  {
   "cell_type": "code",
   "execution_count": 41,
   "id": "34268629",
   "metadata": {},
   "outputs": [
    {
     "name": "stdout",
     "output_type": "stream",
     "text": [
      "計算1至該正整數的合，請輸入一個正整數:100\n",
      "5050\n"
     ]
    }
   ],
   "source": [
    "a = float(input('計算1至該正整數的合，請輸入一個正整數:'))\n",
    "\n",
    "if (a%2==0 or a%2==1) and a>=0:\n",
    "    a = int(a)\n",
    "    sum = 0\n",
    "    b = 0\n",
    "    while a>=b:\n",
    "        sum=sum+b\n",
    "        b= b+1\n",
    "        \n",
    "    print(sum)\n",
    "\n",
    "else:\n",
    "    print('輸入錯誤')"
   ]
  },
  {
   "cell_type": "code",
   "execution_count": 42,
   "id": "848f6866",
   "metadata": {},
   "outputs": [
    {
     "name": "stdout",
     "output_type": "stream",
     "text": [
      "計算1至該正整數的合，請輸入一個正整數:100\n",
      "5050\n"
     ]
    }
   ],
   "source": [
    "a = float(input('計算1至該正整數的合，請輸入一個正整數:'))\n",
    "\n",
    "if (a%2==0 or a%2==1) and a>=0:\n",
    "    a = int(a)\n",
    "    sum = 0\n",
    "    while 0<a:\n",
    "        sum=sum+a\n",
    "        a= a-1\n",
    "        \n",
    "    print(sum)\n",
    "\n",
    "else:\n",
    "    print('輸入錯誤')"
   ]
  },
  {
   "cell_type": "code",
   "execution_count": 43,
   "id": "5354f30f",
   "metadata": {},
   "outputs": [
    {
     "name": "stdout",
     "output_type": "stream",
     "text": [
      "計算1至該正整數的合，請輸入一個正整數:100\n",
      "5050\n"
     ]
    }
   ],
   "source": [
    "a = float(input('計算1至該正整數的合，請輸入一個正整數:'))\n",
    "\n",
    "if (a%2==0 or a%2==1) and a>=0:\n",
    "    a = int(a)\n",
    "    sum = 0\n",
    "    for b in range(1,a+1):\n",
    "        sum= b + sum\n",
    "        \n",
    "    print(sum)\n",
    "\n",
    "else:\n",
    "    print('輸入錯誤')"
   ]
  },
  {
   "cell_type": "code",
   "execution_count": 38,
   "id": "72ee9133",
   "metadata": {},
   "outputs": [
    {
     "name": "stdout",
     "output_type": "stream",
     "text": [
      "請輸入成績:59.9999\n",
      "你被當掉了\n"
     ]
    }
   ],
   "source": [
    "a = float(input(\"請輸入成績:\"))\n",
    "\n",
    "if a>=60:\n",
    "    print('成績及格')\n",
    "elif a<60 and a>=0:\n",
    "    print('你被當掉了')\n",
    "elif a<0:\n",
    "    print('輸入錯誤')"
   ]
  },
  {
   "cell_type": "code",
   "execution_count": 39,
   "id": "22bb4210",
   "metadata": {},
   "outputs": [
    {
     "name": "stdout",
     "output_type": "stream",
     "text": [
      "請輸入購買金額:5962446\n",
      "打八折: 4769957\n"
     ]
    }
   ],
   "source": [
    "a = float(input('請輸入購買金額:'))\n",
    "\n",
    "if a>=100000 and (a%2==0 or a%2==1):\n",
    "    a = a*0.8\n",
    "    print('打八折:',round(a))\n",
    "elif 100000>a>=50000 and (a%2==0 or a%2==1):\n",
    "    a = a*0.85\n",
    "    print('打八五折:',round(a))\n",
    "elif 50000>a>=30000 and (a%2==0 or a%2==1):\n",
    "    a = a*0.9\n",
    "    print('打九折:',round(a))\n",
    "elif 30000>a>=10000 and (a%2==0 or a%2==1):\n",
    "    a = a*0.95\n",
    "    print('打九五折:',round(a))\n",
    "elif 10000>a>=0 and (a%2==0 or a%2==1):\n",
    "    print('不折扣:',round(a))\n",
    "else:\n",
    "    print('輸入錯誤')"
   ]
  },
  {
   "cell_type": "code",
   "execution_count": 13,
   "id": "66c3ead9",
   "metadata": {},
   "outputs": [
    {
     "name": "stdout",
     "output_type": "stream",
     "text": [
      "花色、點數:\n",
      "菱形 7 point\n"
     ]
    }
   ],
   "source": [
    "import random\n",
    "\n",
    "point={1:'1 point',\n",
    "       2:'2 point',\n",
    "       3:'3 point',\n",
    "       4:'4 point',\n",
    "       5:'5 point',\n",
    "       6:'6 point',\n",
    "       7:'7 point',\n",
    "       8:'8 point',\n",
    "       9:'9 point',\n",
    "       10:'10 point',\n",
    "       11:'Jack',\n",
    "       12:'Queen',\n",
    "       13:'king'}\n",
    "\n",
    "color={'a':'黑桃', 'b':'愛心', 'c':'菱形', 'd':'梅花'}\n",
    "\n",
    "flower=random.choice('abcd')\n",
    "dice=random.randint(1,13)\n",
    "\n",
    "print(\"花色、點數:\")\n",
    "print(color[flower],point[dice])"
   ]
  },
  {
   "cell_type": "code",
   "execution_count": 37,
   "id": "944c140f",
   "metadata": {},
   "outputs": [
    {
     "name": "stdout",
     "output_type": "stream",
     "text": [
      "第一組隨意三位數字:777\n",
      "第二組隨意三位數字:999\n",
      "第三組隨意三位數字:651\n",
      "第四組隨意三位數字:752\n",
      "第五組隨意三位數字:652\n",
      "True為中獎,False為沒中:\n",
      "True\n",
      "False\n",
      "False\n",
      "False\n",
      "False\n"
     ]
    }
   ],
   "source": [
    "a=list()\n",
    "\n",
    "a.extend([int(input(\"第一組隨意三位數字:\")),\n",
    "          int(input(\"第二組隨意三位數字:\")),\n",
    "          int(input(\"第三組隨意三位數字:\")),\n",
    "          int(input(\"第四組隨意三位數字:\")),\n",
    "          int(input(\"第五組隨意三位數字:\"))])\n",
    "\n",
    "print('True為中獎,False為沒中:')\n",
    "print(a[0]==777)\n",
    "print(a[1]==777)\n",
    "print(a[2]==777)\n",
    "print(a[3]==777)\n",
    "print(a[4]==777)\n"
   ]
  },
  {
   "cell_type": "code",
   "execution_count": null,
   "id": "30de0b34",
   "metadata": {},
   "outputs": [],
   "source": []
  }
 ],
 "metadata": {
  "kernelspec": {
   "display_name": "Python 3",
   "language": "python",
   "name": "python3"
  },
  "language_info": {
   "codemirror_mode": {
    "name": "ipython",
    "version": 3
   },
   "file_extension": ".py",
   "mimetype": "text/x-python",
   "name": "python",
   "nbconvert_exporter": "python",
   "pygments_lexer": "ipython3",
   "version": "3.8.8"
  }
 },
 "nbformat": 4,
 "nbformat_minor": 5
}
