{
 "cells": [
  {
   "cell_type": "code",
   "execution_count": 1,
   "id": "49c0eb46",
   "metadata": {},
   "outputs": [],
   "source": [
    "#使用 scikit-learn 並匯入測試資料集\n",
    "#所以影響變數 Y的因子為應變數(dependent variable)或依變數，又稱為目標變數(target variable)\n",
    "#就會有X1、X2、X3等變數又稱為自變數 (independent variable)或特徵值(feature)。\n",
    "\n",
    "\n",
    "# 總結:這樣有多個變數的模型稱之為多元迴歸(multiple)或複迴歸。\n",
    "#• 多元線性迴歸模型的原理跟簡單線性迴歸是一樣,但 NumPy並沒有提供這方面功能。\n",
    "#• 要借助Python專為 機器學習 模型而設計的資料科學套件scikit-learn。"
   ]
  },
  {
   "cell_type": "code",
   "execution_count": 2,
   "id": "11478b3d",
   "metadata": {},
   "outputs": [
    {
     "name": "stdout",
     "output_type": "stream",
     "text": [
      "[6.320e-03 1.800e+01 2.310e+00 0.000e+00 5.380e-01 6.575e+00 6.520e+01\n",
      " 4.090e+00 1.000e+00 2.960e+02 1.530e+01 3.969e+02 4.980e+00] 24.0\n"
     ]
    }
   ],
   "source": [
    "from sklearn import datasets\n",
    "\n",
    "data = datasets.load_boston().data      #取自變數欄\n",
    "target = datasets.load_boston().target  #取應變數欄\n",
    "\n",
    "print(data[0],target[0])  #印出第一組X1 X2...參數值"
   ]
  },
  {
   "cell_type": "code",
   "execution_count": 3,
   "id": "2392c8e6",
   "metadata": {},
   "outputs": [
    {
     "name": "stdout",
     "output_type": "stream",
     "text": [
      "[[6.3200e-03 1.8000e+01 2.3100e+00 ... 1.5300e+01 3.9690e+02 4.9800e+00]\n",
      " [2.7310e-02 0.0000e+00 7.0700e+00 ... 1.7800e+01 3.9690e+02 9.1400e+00]\n",
      " [2.7290e-02 0.0000e+00 7.0700e+00 ... 1.7800e+01 3.9283e+02 4.0300e+00]\n",
      " ...\n",
      " [6.0760e-02 0.0000e+00 1.1930e+01 ... 2.1000e+01 3.9690e+02 5.6400e+00]\n",
      " [1.0959e-01 0.0000e+00 1.1930e+01 ... 2.1000e+01 3.9345e+02 6.4800e+00]\n",
      " [4.7410e-02 0.0000e+00 1.1930e+01 ... 2.1000e+01 3.9690e+02 7.8800e+00]]\n",
      "\n",
      "[24.  21.6 34.7 33.4 36.2 28.7 22.9 27.1 16.5 18.9 15.  18.9 21.7 20.4\n",
      " 18.2 19.9 23.1 17.5 20.2 18.2 13.6 19.6 15.2 14.5 15.6 13.9 16.6 14.8\n",
      " 18.4 21.  12.7 14.5 13.2 13.1 13.5 18.9 20.  21.  24.7 30.8 34.9 26.6\n",
      " 25.3 24.7 21.2 19.3 20.  16.6 14.4 19.4 19.7 20.5 25.  23.4 18.9 35.4\n",
      " 24.7 31.6 23.3 19.6 18.7 16.  22.2 25.  33.  23.5 19.4 22.  17.4 20.9\n",
      " 24.2 21.7 22.8 23.4 24.1 21.4 20.  20.8 21.2 20.3 28.  23.9 24.8 22.9\n",
      " 23.9 26.6 22.5 22.2 23.6 28.7 22.6 22.  22.9 25.  20.6 28.4 21.4 38.7\n",
      " 43.8 33.2 27.5 26.5 18.6 19.3 20.1 19.5 19.5 20.4 19.8 19.4 21.7 22.8\n",
      " 18.8 18.7 18.5 18.3 21.2 19.2 20.4 19.3 22.  20.3 20.5 17.3 18.8 21.4\n",
      " 15.7 16.2 18.  14.3 19.2 19.6 23.  18.4 15.6 18.1 17.4 17.1 13.3 17.8\n",
      " 14.  14.4 13.4 15.6 11.8 13.8 15.6 14.6 17.8 15.4 21.5 19.6 15.3 19.4\n",
      " 17.  15.6 13.1 41.3 24.3 23.3 27.  50.  50.  50.  22.7 25.  50.  23.8\n",
      " 23.8 22.3 17.4 19.1 23.1 23.6 22.6 29.4 23.2 24.6 29.9 37.2 39.8 36.2\n",
      " 37.9 32.5 26.4 29.6 50.  32.  29.8 34.9 37.  30.5 36.4 31.1 29.1 50.\n",
      " 33.3 30.3 34.6 34.9 32.9 24.1 42.3 48.5 50.  22.6 24.4 22.5 24.4 20.\n",
      " 21.7 19.3 22.4 28.1 23.7 25.  23.3 28.7 21.5 23.  26.7 21.7 27.5 30.1\n",
      " 44.8 50.  37.6 31.6 46.7 31.5 24.3 31.7 41.7 48.3 29.  24.  25.1 31.5\n",
      " 23.7 23.3 22.  20.1 22.2 23.7 17.6 18.5 24.3 20.5 24.5 26.2 24.4 24.8\n",
      " 29.6 42.8 21.9 20.9 44.  50.  36.  30.1 33.8 43.1 48.8 31.  36.5 22.8\n",
      " 30.7 50.  43.5 20.7 21.1 25.2 24.4 35.2 32.4 32.  33.2 33.1 29.1 35.1\n",
      " 45.4 35.4 46.  50.  32.2 22.  20.1 23.2 22.3 24.8 28.5 37.3 27.9 23.9\n",
      " 21.7 28.6 27.1 20.3 22.5 29.  24.8 22.  26.4 33.1 36.1 28.4 33.4 28.2\n",
      " 22.8 20.3 16.1 22.1 19.4 21.6 23.8 16.2 17.8 19.8 23.1 21.  23.8 23.1\n",
      " 20.4 18.5 25.  24.6 23.  22.2 19.3 22.6 19.8 17.1 19.4 22.2 20.7 21.1\n",
      " 19.5 18.5 20.6 19.  18.7 32.7 16.5 23.9 31.2 17.5 17.2 23.1 24.5 26.6\n",
      " 22.9 24.1 18.6 30.1 18.2 20.6 17.8 21.7 22.7 22.6 25.  19.9 20.8 16.8\n",
      " 21.9 27.5 21.9 23.1 50.  50.  50.  50.  50.  13.8 13.8 15.  13.9 13.3\n",
      " 13.1 10.2 10.4 10.9 11.3 12.3  8.8  7.2 10.5  7.4 10.2 11.5 15.1 23.2\n",
      "  9.7 13.8 12.7 13.1 12.5  8.5  5.   6.3  5.6  7.2 12.1  8.3  8.5  5.\n",
      " 11.9 27.9 17.2 27.5 15.  17.2 17.9 16.3  7.   7.2  7.5 10.4  8.8  8.4\n",
      " 16.7 14.2 20.8 13.4 11.7  8.3 10.2 10.9 11.   9.5 14.5 14.1 16.1 14.3\n",
      " 11.7 13.4  9.6  8.7  8.4 12.8 10.5 17.1 18.4 15.4 10.8 11.8 14.9 12.6\n",
      " 14.1 13.  13.4 15.2 16.1 17.8 14.9 14.1 12.7 13.5 14.9 20.  16.4 17.7\n",
      " 19.5 20.2 21.4 19.9 19.  19.1 19.1 20.1 19.9 19.6 23.2 29.8 13.8 13.3\n",
      " 16.7 12.  14.6 21.4 23.  23.7 25.  21.8 20.6 21.2 19.1 20.6 15.2  7.\n",
      "  8.1 13.6 20.1 21.8 24.5 23.1 19.7 18.3 21.2 17.5 16.8 22.4 20.6 23.9\n",
      " 22.  11.9]\n"
     ]
    }
   ],
   "source": [
    "print(data)\n",
    "print()\n",
    "print(target)"
   ]
  },
  {
   "cell_type": "code",
   "execution_count": 4,
   "id": "1c5b5bce",
   "metadata": {},
   "outputs": [
    {
     "name": "stdout",
     "output_type": "stream",
     "text": [
      "(404, 13)\n",
      "(102, 13)\n",
      "(404,)\n",
      "(102,)\n"
     ]
    }
   ],
   "source": [
    "#把訓練資料分割成訓練集(training set)和測試集(testing set)兩塊，大概 4:1\n",
    "\n",
    "from sklearn.model_selection import train_test_split #分割資料集的函式\n",
    "\n",
    "data_train, data_test, target_train, target_test = train_test_split(data,target,test_size=0.2)\n",
    "\n",
    "print(data_train.shape)    #都是 ndarray 用 shape顯示陣列維度\n",
    "print(data_test.shape)\n",
    "print(target_train.shape)\n",
    "print(target_test.shape)"
   ]
  },
  {
   "cell_type": "code",
   "execution_count": 5,
   "id": "c8c2e541",
   "metadata": {},
   "outputs": [
    {
     "data": {
      "text/plain": [
       "LinearRegression()"
      ]
     },
     "execution_count": 5,
     "metadata": {},
     "output_type": "execute_result"
    }
   ],
   "source": [
    "from sklearn.linear_model import LinearRegression\n",
    "#匯入scikit-learn的線性回歸模型\n",
    "\n",
    "regr_model = LinearRegression()\n",
    "#建立模型物件\n",
    "\n",
    "regr_model.fit(data_train,target_train)  #放訓練!!\n",
    "#用訓練集來訓練模型\n",
    "\n",
    "\n",
    "#現在regr_model就是訓練好的LinearRegression(線性迴歸模型)了。"
   ]
  },
  {
   "cell_type": "code",
   "execution_count": 6,
   "id": "40886c12",
   "metadata": {},
   "outputs": [
    {
     "name": "stdout",
     "output_type": "stream",
     "text": [
      "[28.  25.1 12.6 28.6 17.1 13.2 14.8  9.6 20.5 32.8 38.  36.   8.4 20.3\n",
      " 22.1 22.5 21.  13.5 18.1 24.4 23.3 26.4 20.8 18.2 22.1 24.7 34.4 25.4\n",
      " 24.7 11.5 31.6 22.1 38.5 19.5 24.4 28.3 32.4 22.5 33.9 23.3 25.4 18.9\n",
      " 29.3 34.2  7.2 27.  29.9 24.8 20.1 15.7 27.3 21.3 26.8 19.2 17.4 10.5\n",
      " 34.4 33.1 22.3 12.9 11.8 21.2 29.6 36.2 19.2 17.5 20.6 23.6 22.7 24.7\n",
      " 13.6 30.4 18.3 33.7 22.7 18.7 24.6 23.2 27.4 14.5 31.7 32.4  7.7 23.9\n",
      " 20.7 32.5 11.  23.9 25.  26.8 22.5 27.4 19.1 16.7 23.5 36.2 19.  18.2\n",
      " 35.  16.3 23.  17.3]\n",
      "[28.7 18.5  7.5 24.4 18.1 12.3 14.9 17.8 16.8 50.  45.4 48.3 13.2 24.1\n",
      " 25.  33.  19.8  8.3 12.6 27.5 23.  23.3 18.8 10.9 17.  21.6 46.7 23.2\n",
      " 25.3 11.8 29.  23.2 50.  19.9 23.9 28.  33.1 21.7 35.4 19.4 26.5 20.8\n",
      " 25.  28.5 10.4 22.6 34.7 28.1 23.  20.1 22.  21.2 23.7 22.6 19.5 23.7\n",
      " 33.8 36.1 20.2 13.4  5.6 19.  30.1 50.  20.6 14.9 20.9 21.4 11.9 23.1\n",
      " 13.5 29.4 15.  37.9 22.9 18.4 24.2 23.1 20.6 13.1 32.2 36.4  8.5 22.2\n",
      " 19.3 30.3 16.5 23.4 24.1 24.8 21.1 22.3 27.1 23.1 23.4 36.  22.2 14.2\n",
      " 37.3 21.9 23.8 17.4]\n"
     ]
    }
   ],
   "source": [
    "predictions = regr_model.predict(data_test) \n",
    "#把測試集的自變數資料套入模型，產生預測值\n",
    "\n",
    "print(predictions.round(1)) #預測\n",
    "print(target_test)          #實際"
   ]
  },
  {
   "cell_type": "code",
   "execution_count": 7,
   "id": "b97f86a9",
   "metadata": {},
   "outputs": [
    {
     "name": "stdout",
     "output_type": "stream",
     "text": [
      "0.742\n",
      "0.721\n"
     ]
    }
   ],
   "source": [
    "#決定係數(coefficient of determination) 判定係數\n",
    "#評估模型的預測能力 (準不準、解釋能力)\n",
    "\n",
    "print(regr_model.score(data_train,target_train).round(3)) #訓練集\n",
    "print(regr_model.score(data_test,target_test).round(3))   #測試集\n",
    "\n",
    "#兩數值相近 表模型沒有被過度訓練"
   ]
  },
  {
   "cell_type": "code",
   "execution_count": 8,
   "id": "3e94369f",
   "metadata": {},
   "outputs": [],
   "source": [
    "#• 知識補充:\n",
    "#• 對線性迴歸模型來說,還記得第八章有提到的相關係數r平方後剛好會等於決定係數(R^2)。\n",
    "\n",
    "#• 相關係數代表的是資料之間的關聯度。\n",
    "#• 決定係數代表自變數對目標變數的解釋力(影響程度)。\n",
    "\n",
    "#決定係數介於0到1之間,越接近1代表模型的預測能力越好。\n",
    "#R^2就算落在0.4~0.6也被認為是有效的。\n",
    "#假設你的模型已經將所有重要的變數納入考量,那麼若R^2僅有0.2也具有參考性。"
   ]
  },
  {
   "cell_type": "code",
   "execution_count": 9,
   "id": "3408a163",
   "metadata": {},
   "outputs": [
    {
     "data": {
      "image/png": "[encoded data removed]",
      "text/plain": [
       "<Figure size 432x288 with 1 Axes>"
      ]
     },
     "metadata": {
      "needs_background": "light"
     },
     "output_type": "display_data"
    }
   ],
   "source": [
    "#殘差圖\n",
    "import numpy as np\n",
    "import matplotlib.pyplot as plt\n",
    "\n",
    "x = np.arange(predictions.size)\n",
    "y = x*0                           #數量一樣才能畫圖\n",
    "              \n",
    "plt.scatter(x,predictions-target_test)\n",
    "plt.plot(x,y,color='orange')\n",
    "plt.show()\n"
   ]
  },
  {
   "cell_type": "code",
   "execution_count": 10,
   "id": "00f33e5f",
   "metadata": {},
   "outputs": [
    {
     "name": "stdout",
     "output_type": "stream",
     "text": [
      "3.427\n"
     ]
    }
   ],
   "source": [
    "#平均絕對誤差 (MAE) \n",
    "#量化殘差值\n",
    "\n",
    "from sklearn.metrics import mean_absolute_error\n",
    "print( mean_absolute_error(target_test,predictions).round(3))"
   ]
  },
  {
   "cell_type": "code",
   "execution_count": 11,
   "id": "c11c72ae",
   "metadata": {},
   "outputs": [
    {
     "name": "stdout",
     "output_type": "stream",
     "text": [
      "[-1.000e-01  6.000e-02  2.000e-02  2.640e+00 -1.787e+01  3.200e+00\n",
      "  1.000e-02 -1.580e+00  3.100e-01 -1.000e-02 -9.000e-01  1.000e-02\n",
      " -5.600e-01]\n",
      "39.74\n"
     ]
    }
   ],
   "source": [
    "#模型的係數\n",
    "print(regr_model.coef_.round(2))   #係數?\n",
    "print(regr_model.intercept_.round(2)) #截距"
   ]
  },
  {
   "cell_type": "code",
   "execution_count": 12,
   "id": "d53de575",
   "metadata": {},
   "outputs": [
    {
     "data": {
      "text/html": [
       "<div>\n",
       "<style scoped>\n",
       "    .dataframe tbody tr th:only-of-type {\n",
       "        vertical-align: middle;\n",
       "    }\n",
       "\n",
       "    .dataframe tbody tr th {\n",
       "        vertical-align: top;\n",
       "    }\n",
       "\n",
       "    .dataframe thead th {\n",
       "        text-align: right;\n",
       "    }\n",
       "</style>\n",
       "<table border=\"1\" class=\"dataframe\">\n",
       "  <thead>\n",
       "    <tr style=\"text-align: right;\">\n",
       "      <th></th>\n",
       "      <th>Rented Bike Count</th>\n",
       "      <th>Hour</th>\n",
       "      <th>Temperature(癈)</th>\n",
       "      <th>Humidity(%)</th>\n",
       "      <th>Wind speed (m/s)</th>\n",
       "      <th>Visibility (10m)</th>\n",
       "      <th>Dew point temperature(癈)</th>\n",
       "      <th>Solar Radiation (MJ/m2)</th>\n",
       "      <th>Rainfall(mm)</th>\n",
       "      <th>Snowfall (cm)</th>\n",
       "      <th>Seasons</th>\n",
       "      <th>Holiday</th>\n",
       "      <th>Functioning Day</th>\n",
       "    </tr>\n",
       "    <tr>\n",
       "      <th>Date</th>\n",
       "      <th></th>\n",
       "      <th></th>\n",
       "      <th></th>\n",
       "      <th></th>\n",
       "      <th></th>\n",
       "      <th></th>\n",
       "      <th></th>\n",
       "      <th></th>\n",
       "      <th></th>\n",
       "      <th></th>\n",
       "      <th></th>\n",
       "      <th></th>\n",
       "      <th></th>\n",
       "    </tr>\n",
       "  </thead>\n",
       "  <tbody>\n",
       "    <tr>\n",
       "      <th>01/12/2017</th>\n",
       "      <td>254</td>\n",
       "      <td>0</td>\n",
       "      <td>-5.2</td>\n",
       "      <td>37</td>\n",
       "      <td>2.2</td>\n",
       "      <td>2000</td>\n",
       "      <td>-17.6</td>\n",
       "      <td>0.0</td>\n",
       "      <td>0.0</td>\n",
       "      <td>0.0</td>\n",
       "      <td>Winter</td>\n",
       "      <td>No Holiday</td>\n",
       "      <td>Yes</td>\n",
       "    </tr>\n",
       "    <tr>\n",
       "      <th>01/12/2017</th>\n",
       "      <td>204</td>\n",
       "      <td>1</td>\n",
       "      <td>-5.5</td>\n",
       "      <td>38</td>\n",
       "      <td>0.8</td>\n",
       "      <td>2000</td>\n",
       "      <td>-17.6</td>\n",
       "      <td>0.0</td>\n",
       "      <td>0.0</td>\n",
       "      <td>0.0</td>\n",
       "      <td>Winter</td>\n",
       "      <td>No Holiday</td>\n",
       "      <td>Yes</td>\n",
       "    </tr>\n",
       "    <tr>\n",
       "      <th>01/12/2017</th>\n",
       "      <td>173</td>\n",
       "      <td>2</td>\n",
       "      <td>-6.0</td>\n",
       "      <td>39</td>\n",
       "      <td>1.0</td>\n",
       "      <td>2000</td>\n",
       "      <td>-17.7</td>\n",
       "      <td>0.0</td>\n",
       "      <td>0.0</td>\n",
       "      <td>0.0</td>\n",
       "      <td>Winter</td>\n",
       "      <td>No Holiday</td>\n",
       "      <td>Yes</td>\n",
       "    </tr>\n",
       "    <tr>\n",
       "      <th>01/12/2017</th>\n",
       "      <td>107</td>\n",
       "      <td>3</td>\n",
       "      <td>-6.2</td>\n",
       "      <td>40</td>\n",
       "      <td>0.9</td>\n",
       "      <td>2000</td>\n",
       "      <td>-17.6</td>\n",
       "      <td>0.0</td>\n",
       "      <td>0.0</td>\n",
       "      <td>0.0</td>\n",
       "      <td>Winter</td>\n",
       "      <td>No Holiday</td>\n",
       "      <td>Yes</td>\n",
       "    </tr>\n",
       "    <tr>\n",
       "      <th>01/12/2017</th>\n",
       "      <td>78</td>\n",
       "      <td>4</td>\n",
       "      <td>-6.0</td>\n",
       "      <td>36</td>\n",
       "      <td>2.3</td>\n",
       "      <td>2000</td>\n",
       "      <td>-18.6</td>\n",
       "      <td>0.0</td>\n",
       "      <td>0.0</td>\n",
       "      <td>0.0</td>\n",
       "      <td>Winter</td>\n",
       "      <td>No Holiday</td>\n",
       "      <td>Yes</td>\n",
       "    </tr>\n",
       "    <tr>\n",
       "      <th>...</th>\n",
       "      <td>...</td>\n",
       "      <td>...</td>\n",
       "      <td>...</td>\n",
       "      <td>...</td>\n",
       "      <td>...</td>\n",
       "      <td>...</td>\n",
       "      <td>...</td>\n",
       "      <td>...</td>\n",
       "      <td>...</td>\n",
       "      <td>...</td>\n",
       "      <td>...</td>\n",
       "      <td>...</td>\n",
       "      <td>...</td>\n",
       "    </tr>\n",
       "    <tr>\n",
       "      <th>30/11/2018</th>\n",
       "      <td>1003</td>\n",
       "      <td>19</td>\n",
       "      <td>4.2</td>\n",
       "      <td>34</td>\n",
       "      <td>2.6</td>\n",
       "      <td>1894</td>\n",
       "      <td>-10.3</td>\n",
       "      <td>0.0</td>\n",
       "      <td>0.0</td>\n",
       "      <td>0.0</td>\n",
       "      <td>Autumn</td>\n",
       "      <td>No Holiday</td>\n",
       "      <td>Yes</td>\n",
       "    </tr>\n",
       "    <tr>\n",
       "      <th>30/11/2018</th>\n",
       "      <td>764</td>\n",
       "      <td>20</td>\n",
       "      <td>3.4</td>\n",
       "      <td>37</td>\n",
       "      <td>2.3</td>\n",
       "      <td>2000</td>\n",
       "      <td>-9.9</td>\n",
       "      <td>0.0</td>\n",
       "      <td>0.0</td>\n",
       "      <td>0.0</td>\n",
       "      <td>Autumn</td>\n",
       "      <td>No Holiday</td>\n",
       "      <td>Yes</td>\n",
       "    </tr>\n",
       "    <tr>\n",
       "      <th>30/11/2018</th>\n",
       "      <td>694</td>\n",
       "      <td>21</td>\n",
       "      <td>2.6</td>\n",
       "      <td>39</td>\n",
       "      <td>0.3</td>\n",
       "      <td>1968</td>\n",
       "      <td>-9.9</td>\n",
       "      <td>0.0</td>\n",
       "      <td>0.0</td>\n",
       "      <td>0.0</td>\n",
       "      <td>Autumn</td>\n",
       "      <td>No Holiday</td>\n",
       "      <td>Yes</td>\n",
       "    </tr>\n",
       "    <tr>\n",
       "      <th>30/11/2018</th>\n",
       "      <td>712</td>\n",
       "      <td>22</td>\n",
       "      <td>2.1</td>\n",
       "      <td>41</td>\n",
       "      <td>1.0</td>\n",
       "      <td>1859</td>\n",
       "      <td>-9.8</td>\n",
       "      <td>0.0</td>\n",
       "      <td>0.0</td>\n",
       "      <td>0.0</td>\n",
       "      <td>Autumn</td>\n",
       "      <td>No Holiday</td>\n",
       "      <td>Yes</td>\n",
       "    </tr>\n",
       "    <tr>\n",
       "      <th>30/11/2018</th>\n",
       "      <td>584</td>\n",
       "      <td>23</td>\n",
       "      <td>1.9</td>\n",
       "      <td>43</td>\n",
       "      <td>1.3</td>\n",
       "      <td>1909</td>\n",
       "      <td>-9.3</td>\n",
       "      <td>0.0</td>\n",
       "      <td>0.0</td>\n",
       "      <td>0.0</td>\n",
       "      <td>Autumn</td>\n",
       "      <td>No Holiday</td>\n",
       "      <td>Yes</td>\n",
       "    </tr>\n",
       "  </tbody>\n",
       "</table>\n",
       "<p>8760 rows × 13 columns</p>\n",
       "</div>"
      ],
      "text/plain": [
       "            Rented Bike Count  Hour  Temperature(癈)  Humidity(%)  \\\n",
       "Date                                                               \n",
       "01/12/2017                254     0            -5.2           37   \n",
       "01/12/2017                204     1            -5.5           38   \n",
       "01/12/2017                173     2            -6.0           39   \n",
       "01/12/2017                107     3            -6.2           40   \n",
       "01/12/2017                 78     4            -6.0           36   \n",
       "...                       ...   ...             ...          ...   \n",
       "30/11/2018               1003    19             4.2           34   \n",
       "30/11/2018                764    20             3.4           37   \n",
       "30/11/2018                694    21             2.6           39   \n",
       "30/11/2018                712    22             2.1           41   \n",
       "30/11/2018                584    23             1.9           43   \n",
       "\n",
       "            Wind speed (m/s)  Visibility (10m)  Dew point temperature(癈)  \\\n",
       "Date                                                                       \n",
       "01/12/2017               2.2              2000                     -17.6   \n",
       "01/12/2017               0.8              2000                     -17.6   \n",
       "01/12/2017               1.0              2000                     -17.7   \n",
       "01/12/2017               0.9              2000                     -17.6   \n",
       "01/12/2017               2.3              2000                     -18.6   \n",
       "...                      ...               ...                       ...   \n",
       "30/11/2018               2.6              1894                     -10.3   \n",
       "30/11/2018               2.3              2000                      -9.9   \n",
       "30/11/2018               0.3              1968                      -9.9   \n",
       "30/11/2018               1.0              1859                      -9.8   \n",
       "30/11/2018               1.3              1909                      -9.3   \n",
       "\n",
       "            Solar Radiation (MJ/m2)  Rainfall(mm)  Snowfall (cm) Seasons  \\\n",
       "Date                                                                       \n",
       "01/12/2017                      0.0           0.0            0.0  Winter   \n",
       "01/12/2017                      0.0           0.0            0.0  Winter   \n",
       "01/12/2017                      0.0           0.0            0.0  Winter   \n",
       "01/12/2017                      0.0           0.0            0.0  Winter   \n",
       "01/12/2017                      0.0           0.0            0.0  Winter   \n",
       "...                             ...           ...            ...     ...   \n",
       "30/11/2018                      0.0           0.0            0.0  Autumn   \n",
       "30/11/2018                      0.0           0.0            0.0  Autumn   \n",
       "30/11/2018                      0.0           0.0            0.0  Autumn   \n",
       "30/11/2018                      0.0           0.0            0.0  Autumn   \n",
       "30/11/2018                      0.0           0.0            0.0  Autumn   \n",
       "\n",
       "               Holiday Functioning Day  \n",
       "Date                                    \n",
       "01/12/2017  No Holiday             Yes  \n",
       "01/12/2017  No Holiday             Yes  \n",
       "01/12/2017  No Holiday             Yes  \n",
       "01/12/2017  No Holiday             Yes  \n",
       "01/12/2017  No Holiday             Yes  \n",
       "...                ...             ...  \n",
       "30/11/2018  No Holiday             Yes  \n",
       "30/11/2018  No Holiday             Yes  \n",
       "30/11/2018  No Holiday             Yes  \n",
       "30/11/2018  No Holiday             Yes  \n",
       "30/11/2018  No Holiday             Yes  \n",
       "\n",
       "[8760 rows x 13 columns]"
      ]
     },
     "execution_count": 12,
     "metadata": {},
     "output_type": "execute_result"
    }
   ],
   "source": [
    "#匯報表\n",
    "import pandas as pd\n",
    "\n",
    "df = pd.read_csv(r'C:\\Users\\user\\Downloads\\SeoulBikeData.csv',encoding = 'gbk',index_col=['Date'])\n",
    "                                                             #讀取編碼          設索引\n",
    "df"
   ]
  },
  {
   "cell_type": "code",
   "execution_count": 13,
   "id": "2a26118c",
   "metadata": {},
   "outputs": [],
   "source": [
    "#資料清理 資料前處理\n",
    "data = df.copy()     #先複製一份 DataFrame 保留原始資料\n",
    "data = data[data['Functioning Day']=='Yes']  #篩選要的資料"
   ]
  },
  {
   "cell_type": "code",
   "execution_count": 14,
   "id": "42453af7",
   "metadata": {},
   "outputs": [
    {
     "data": {
      "text/plain": [
       "Date\n",
       "01/12/2017    Yes\n",
       "01/12/2017    Yes\n",
       "01/12/2017    Yes\n",
       "01/12/2017    Yes\n",
       "01/12/2017    Yes\n",
       "             ... \n",
       "30/11/2018    Yes\n",
       "30/11/2018    Yes\n",
       "30/11/2018    Yes\n",
       "30/11/2018    Yes\n",
       "30/11/2018    Yes\n",
       "Name: Functioning Day, Length: 8465, dtype: object"
      ]
     },
     "execution_count": 14,
     "metadata": {},
     "output_type": "execute_result"
    }
   ],
   "source": [
    "#丟掉含 NaN的資料\n",
    "data.pop('Functioning Day')\n"
   ]
  },
  {
   "cell_type": "code",
   "execution_count": 15,
   "id": "4b5eb584",
   "metadata": {},
   "outputs": [
    {
     "data": {
      "text/html": [
       "<div>\n",
       "<style scoped>\n",
       "    .dataframe tbody tr th:only-of-type {\n",
       "        vertical-align: middle;\n",
       "    }\n",
       "\n",
       "    .dataframe tbody tr th {\n",
       "        vertical-align: top;\n",
       "    }\n",
       "\n",
       "    .dataframe thead th {\n",
       "        text-align: right;\n",
       "    }\n",
       "</style>\n",
       "<table border=\"1\" class=\"dataframe\">\n",
       "  <thead>\n",
       "    <tr style=\"text-align: right;\">\n",
       "      <th></th>\n",
       "      <th>Temperature(*C)</th>\n",
       "      <th>Dew point(*C)</th>\n",
       "    </tr>\n",
       "    <tr>\n",
       "      <th>Date</th>\n",
       "      <th></th>\n",
       "      <th></th>\n",
       "    </tr>\n",
       "  </thead>\n",
       "  <tbody>\n",
       "    <tr>\n",
       "      <th>01/12/2017</th>\n",
       "      <td>-5.2</td>\n",
       "      <td>-17.6</td>\n",
       "    </tr>\n",
       "    <tr>\n",
       "      <th>01/12/2017</th>\n",
       "      <td>-5.5</td>\n",
       "      <td>-17.6</td>\n",
       "    </tr>\n",
       "    <tr>\n",
       "      <th>01/12/2017</th>\n",
       "      <td>-6.0</td>\n",
       "      <td>-17.7</td>\n",
       "    </tr>\n",
       "    <tr>\n",
       "      <th>01/12/2017</th>\n",
       "      <td>-6.2</td>\n",
       "      <td>-17.6</td>\n",
       "    </tr>\n",
       "    <tr>\n",
       "      <th>01/12/2017</th>\n",
       "      <td>-6.0</td>\n",
       "      <td>-18.6</td>\n",
       "    </tr>\n",
       "    <tr>\n",
       "      <th>...</th>\n",
       "      <td>...</td>\n",
       "      <td>...</td>\n",
       "    </tr>\n",
       "    <tr>\n",
       "      <th>30/11/2018</th>\n",
       "      <td>4.2</td>\n",
       "      <td>-10.3</td>\n",
       "    </tr>\n",
       "    <tr>\n",
       "      <th>30/11/2018</th>\n",
       "      <td>3.4</td>\n",
       "      <td>-9.9</td>\n",
       "    </tr>\n",
       "    <tr>\n",
       "      <th>30/11/2018</th>\n",
       "      <td>2.6</td>\n",
       "      <td>-9.9</td>\n",
       "    </tr>\n",
       "    <tr>\n",
       "      <th>30/11/2018</th>\n",
       "      <td>2.1</td>\n",
       "      <td>-9.8</td>\n",
       "    </tr>\n",
       "    <tr>\n",
       "      <th>30/11/2018</th>\n",
       "      <td>1.9</td>\n",
       "      <td>-9.3</td>\n",
       "    </tr>\n",
       "  </tbody>\n",
       "</table>\n",
       "<p>8465 rows × 2 columns</p>\n",
       "</div>"
      ],
      "text/plain": [
       "            Temperature(*C)  Dew point(*C)\n",
       "Date                                      \n",
       "01/12/2017             -5.2          -17.6\n",
       "01/12/2017             -5.5          -17.6\n",
       "01/12/2017             -6.0          -17.7\n",
       "01/12/2017             -6.2          -17.6\n",
       "01/12/2017             -6.0          -18.6\n",
       "...                     ...            ...\n",
       "30/11/2018              4.2          -10.3\n",
       "30/11/2018              3.4           -9.9\n",
       "30/11/2018              2.6           -9.9\n",
       "30/11/2018              2.1           -9.8\n",
       "30/11/2018              1.9           -9.3\n",
       "\n",
       "[8465 rows x 2 columns]"
      ]
     },
     "execution_count": 15,
     "metadata": {},
     "output_type": "execute_result"
    }
   ],
   "source": [
    "#重新命名 含亂碼欄位\n",
    "#用字典{舊，新}\n",
    "\n",
    "data = data.rename(columns={'Temperature(癈)':'Temperature(*C)','Dew point temperature(癈)':'Dew point(*C)'})\n",
    "\n",
    "data[['Temperature(*C)','Dew point(*C)']]"
   ]
  },
  {
   "cell_type": "code",
   "execution_count": 16,
   "id": "2b71d189",
   "metadata": {},
   "outputs": [
    {
     "data": {
      "text/html": [
       "<div>\n",
       "<style scoped>\n",
       "    .dataframe tbody tr th:only-of-type {\n",
       "        vertical-align: middle;\n",
       "    }\n",
       "\n",
       "    .dataframe tbody tr th {\n",
       "        vertical-align: top;\n",
       "    }\n",
       "\n",
       "    .dataframe thead th {\n",
       "        text-align: right;\n",
       "    }\n",
       "</style>\n",
       "<table border=\"1\" class=\"dataframe\">\n",
       "  <thead>\n",
       "    <tr style=\"text-align: right;\">\n",
       "      <th></th>\n",
       "      <th>Seasons</th>\n",
       "      <th>Holiday</th>\n",
       "    </tr>\n",
       "    <tr>\n",
       "      <th>Date</th>\n",
       "      <th></th>\n",
       "      <th></th>\n",
       "    </tr>\n",
       "  </thead>\n",
       "  <tbody>\n",
       "    <tr>\n",
       "      <th>01/12/2017</th>\n",
       "      <td>3</td>\n",
       "      <td>1</td>\n",
       "    </tr>\n",
       "    <tr>\n",
       "      <th>01/12/2017</th>\n",
       "      <td>3</td>\n",
       "      <td>1</td>\n",
       "    </tr>\n",
       "    <tr>\n",
       "      <th>01/12/2017</th>\n",
       "      <td>3</td>\n",
       "      <td>1</td>\n",
       "    </tr>\n",
       "    <tr>\n",
       "      <th>01/12/2017</th>\n",
       "      <td>3</td>\n",
       "      <td>1</td>\n",
       "    </tr>\n",
       "    <tr>\n",
       "      <th>01/12/2017</th>\n",
       "      <td>3</td>\n",
       "      <td>1</td>\n",
       "    </tr>\n",
       "    <tr>\n",
       "      <th>...</th>\n",
       "      <td>...</td>\n",
       "      <td>...</td>\n",
       "    </tr>\n",
       "    <tr>\n",
       "      <th>30/11/2018</th>\n",
       "      <td>0</td>\n",
       "      <td>1</td>\n",
       "    </tr>\n",
       "    <tr>\n",
       "      <th>30/11/2018</th>\n",
       "      <td>0</td>\n",
       "      <td>1</td>\n",
       "    </tr>\n",
       "    <tr>\n",
       "      <th>30/11/2018</th>\n",
       "      <td>0</td>\n",
       "      <td>1</td>\n",
       "    </tr>\n",
       "    <tr>\n",
       "      <th>30/11/2018</th>\n",
       "      <td>0</td>\n",
       "      <td>1</td>\n",
       "    </tr>\n",
       "    <tr>\n",
       "      <th>30/11/2018</th>\n",
       "      <td>0</td>\n",
       "      <td>1</td>\n",
       "    </tr>\n",
       "  </tbody>\n",
       "</table>\n",
       "<p>8465 rows × 2 columns</p>\n",
       "</div>"
      ],
      "text/plain": [
       "            Seasons  Holiday\n",
       "Date                        \n",
       "01/12/2017        3        1\n",
       "01/12/2017        3        1\n",
       "01/12/2017        3        1\n",
       "01/12/2017        3        1\n",
       "01/12/2017        3        1\n",
       "...             ...      ...\n",
       "30/11/2018        0        1\n",
       "30/11/2018        0        1\n",
       "30/11/2018        0        1\n",
       "30/11/2018        0        1\n",
       "30/11/2018        0        1\n",
       "\n",
       "[8465 rows x 2 columns]"
      ]
     },
     "execution_count": 16,
     "metadata": {},
     "output_type": "execute_result"
    }
   ],
   "source": [
    "#將資料編碼為數字\n",
    "\n",
    "from sklearn.preprocessing import LabelEncoder #前處理 匯入編碼器\n",
    "le = LabelEncoder()                            #建立物件\n",
    "\n",
    "data['Seasons'] = le.fit_transform(data['Seasons'])\n",
    "data['Holiday'] = le.fit_transform(data['Holiday'])\n",
    "\n",
    "data[['Seasons','Holiday']]"
   ]
  },
  {
   "cell_type": "code",
   "execution_count": 17,
   "id": "5c84b3c4",
   "metadata": {},
   "outputs": [],
   "source": [
    "target =data.pop('Rented Bike Count')\n",
    "\n",
    "#pop( )函式會將某欄位的資料從data物件內丟掉,並傳給target變數。\n",
    "#• pop( )和dropna( )有何不同?\n",
    "#• pop( )會根據指定的名稱刪除(或抽出)DataFrame中的一個欄。\n",
    "#• 而dropna( )會刪除一個列或一筆資料(假如該筆資料中含有NaN值的話)。\n",
    "#• 如果你在檢視data與target的內容,就會發現data的Rented Bike Count欄位不見了\n",
    "# 同時該欄位的值已經存在target"
   ]
  },
  {
   "cell_type": "code",
   "execution_count": 18,
   "id": "00000a66",
   "metadata": {},
   "outputs": [],
   "source": [
    "#超級大問號"
   ]
  },
  {
   "cell_type": "code",
   "execution_count": 19,
   "id": "8a141ad7",
   "metadata": {},
   "outputs": [],
   "source": [
    "#不能print target???"
   ]
  },
  {
   "cell_type": "code",
   "execution_count": 20,
   "id": "a957fa6a",
   "metadata": {},
   "outputs": [],
   "source": [
    "# .value 有時能用有時不能???"
   ]
  },
  {
   "cell_type": "code",
   "execution_count": 21,
   "id": "5435f481",
   "metadata": {},
   "outputs": [
    {
     "name": "stdout",
     "output_type": "stream",
     "text": [
      "0.543\n",
      "0.534\n"
     ]
    }
   ],
   "source": [
    "data_train, data_test, target_train, target_test = train_test_split(data.values,target.values,test_size=0.25)\n",
    "\n",
    "# .values : 只取出值                                train_test_split(data.values,target.values,test_size=0.25)\n",
    "\n",
    "regr= LinearRegression()\n",
    "regr.fit(data_train,target_train)\n",
    "predictions=regr.predict(data_test)\n",
    "\n",
    "print(regr.score(data_train,target_train).round(3))\n",
    "print(regr.score(data_test,target_test).round(3))"
   ]
  },
  {
   "cell_type": "code",
   "execution_count": 22,
   "id": "ef1f6aaf",
   "metadata": {},
   "outputs": [
    {
     "data": {
      "image/png": "[encoded data removed]",
      "text/plain": [
       "<Figure size 432x288 with 1 Axes>"
      ]
     },
     "metadata": {
      "needs_background": "light"
     },
     "output_type": "display_data"
    },
    {
     "name": "stdout",
     "output_type": "stream",
     "text": [
      "331.385\n"
     ]
    }
   ],
   "source": [
    "x = np.arange(predictions.size)\n",
    "y = x*0\n",
    "              \n",
    "plt.scatter(x,predictions-target_test)\n",
    "plt.plot(x,y,color='orange')\n",
    "plt.show()\n",
    "\n",
    "#平均絕對誤差 (MAE)\n",
    "from sklearn.metrics import mean_absolute_error\n",
    "print( mean_absolute_error(target_test,predictions).round(3))"
   ]
  },
  {
   "cell_type": "code",
   "execution_count": null,
   "id": "829bc6f8",
   "metadata": {},
   "outputs": [],
   "source": []
  }
 ],
 "metadata": {
  "kernelspec": {
   "display_name": "Python 3",
   "language": "python",
   "name": "python3"
  },
  "language_info": {
   "codemirror_mode": {
    "name": "ipython",
    "version": 3
   },
   "file_extension": ".py",
   "mimetype": "text/x-python",
   "name": "python",
   "nbconvert_exporter": "python",
   "pygments_lexer": "ipython3",
   "version": "3.8.8"
  }
 },
 "nbformat": 4,
 "nbformat_minor": 5
}
