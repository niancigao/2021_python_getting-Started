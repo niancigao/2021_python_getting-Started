{
 "cells": [
  {
   "cell_type": "code",
   "execution_count": 7,
   "id": "d4188801",
   "metadata": {},
   "outputs": [
    {
     "name": "stdout",
     "output_type": "stream",
     "text": [
      "8.0\n",
      "2.0\n",
      "15.0\n",
      "1.6666666666666667\n"
     ]
    }
   ],
   "source": [
    "x = 5\n",
    "y = 3.0\n",
    "\n",
    "def add(x,y):\n",
    "    return x+y    #用 return還是要 print\n",
    "    \n",
    "def sub(x,y):\n",
    "    print(x-y)\n",
    "\n",
    "def mul(x,y):\n",
    "    print(x*y)\n",
    "\n",
    "def div(x,y):\n",
    "    if y!=0:\n",
    "        print(x/y)\n",
    "    else:\n",
    "        return('False')\n",
    "\n",
    "print(add(x,y))\n",
    "sub(x,y)\n",
    "mul(x,y)\n",
    "div(x,y)"
   ]
  },
  {
   "cell_type": "code",
   "execution_count": 19,
   "id": "526f4fb8",
   "metadata": {},
   "outputs": [
    {
     "name": "stdout",
     "output_type": "stream",
     "text": [
      "17\n",
      "-1\n",
      "72\n",
      "0.8888888888888888\n"
     ]
    }
   ],
   "source": [
    "def calculator(x = 8, z = '', y = 9):\n",
    "    \n",
    "    if z == '+' :\n",
    "        print(x+y)\n",
    "    elif z == '-' :\n",
    "        print(x-y)\n",
    "    elif z == '*' :\n",
    "        print(x*y)\n",
    "    elif z == '/' :\n",
    "        if y!=0:\n",
    "            print(x/y)\n",
    "        else:\n",
    "            print('False')\n",
    "\n",
    "calculator(8,'+',9)\n",
    "calculator(8,'-',9)\n",
    "calculator(8,'*',9)\n",
    "calculator(8,'/',9)"
   ]
  },
  {
   "cell_type": "code",
   "execution_count": 10,
   "id": "a760fbd1",
   "metadata": {},
   "outputs": [
    {
     "name": "stdout",
     "output_type": "stream",
     "text": [
      "平均數:  1.736842105263158\n",
      "中位數:  1.5\n",
      "變異數:  33.32548476454294\n",
      "標準差:  5.7728229458855695\n",
      "\n",
      "\n",
      "平均數:  -1.7619047619047619\n",
      "中位數:  -5.0\n",
      "變異數:  85.82426303854876\n",
      "標準差:  9.264138548108441\n",
      "\n",
      "\n",
      "\n",
      "\n"
     ]
    },
    {
     "data": {
      "text/plain": [
       "<function matplotlib.pyplot.show(close=None, block=None)>"
      ]
     },
     "execution_count": 10,
     "metadata": {},
     "output_type": "execute_result"
    },
    {
     "data": {
      "image/png": "[encoded data removed]",
      "text/plain": [
       "<Figure size 432x288 with 2 Axes>"
      ]
     },
     "metadata": {
      "needs_background": "light"
     },
     "output_type": "display_data"
    }
   ],
   "source": [
    "import numpy as np\n",
    "import matplotlib.pyplot as plt\n",
    "\n",
    "april = np.array([271.5, 275.5, 283, 285, 283,\n",
    "\n",
    "279.5, 278.5, 285, 287.5, 286.5,\n",
    "\n",
    "306.5, 304, 295, 294, 295.5,\n",
    "\n",
    "294, 298, 296.5, 299, 304.5])\n",
    "\n",
    "march = np.array([311.0, 317.5, 320.5, 323.0, 315.0,\n",
    "\n",
    "305.5, 307.0, 302.0, 294.0, 290.0,\n",
    "\n",
    "276.5, 268.0, 260.0, 248.0, 270.0,\n",
    "\n",
    "255.0, 267.5, 277.0, 280.0, 273.0,\n",
    "\n",
    "267.5, 274.0])\n",
    "\n",
    "stock=np.zeros(len(april)-1)\n",
    "\n",
    "\n",
    "\n",
    "def diff(stock):                                          # A小題\n",
    "    \n",
    "    for i in np.arange(1,len(april)):\n",
    "        stock[i-1]=np.array([april[i] - april[i-1]])\n",
    "\n",
    "    print('平均數: ',np.mean(stock))\n",
    "    print('中位數: ',np.percentile(stock,50))\n",
    "    print('變異數: ',np.var(stock))\n",
    "    print('標準差: ',np.std(stock))\n",
    "    \n",
    "diff(stock)\n",
    "\n",
    "print('\\n')\n",
    "\n",
    " \n",
    "stock3 = np.zeros(len(march)-1)\n",
    "def diff3(stock3):                                        # B小題\n",
    "    \n",
    "    for i in np.arange(1,len(march)):\n",
    "        stock3[i-1]=np.array([march[i] - march[i-1]])\n",
    "   \n",
    "    print('平均數: ',np.mean(stock3))\n",
    "    print('中位數: ',np.percentile(stock3,50))\n",
    "    print('變異數: ',np.var(stock3))\n",
    "    print('標準差: ',np.std(stock3))   \n",
    "    \n",
    "diff3(stock3)\n",
    "\n",
    "print('\\n')\n",
    "\n",
    "plt.subplot(211)                                          # C小題\n",
    "plt.boxplot([stock,stock3])\n",
    "\n",
    "plt.show\n",
    "\n",
    "print('\\n')\n",
    "\n",
    "plt.subplot(212)                                          # D小題\n",
    "plt.boxplot([stock,stock3], showmeans=True)\n",
    "\n",
    "plt.show"
   ]
  },
  {
   "cell_type": "code",
   "execution_count": 23,
   "id": "50e21a5b",
   "metadata": {},
   "outputs": [
    {
     "data": {
      "text/plain": [
       "{'whiskers': [<matplotlib.lines.Line2D at 0x24f96a8a730>,\n",
       "  <matplotlib.lines.Line2D at 0x24f96a8aa90>],\n",
       " 'caps': [<matplotlib.lines.Line2D at 0x24f96a8adf0>,\n",
       "  <matplotlib.lines.Line2D at 0x24f96aaa1f0>],\n",
       " 'boxes': [<matplotlib.lines.Line2D at 0x24f96a8a3d0>],\n",
       " 'medians': [<matplotlib.lines.Line2D at 0x24f96aaa550>],\n",
       " 'fliers': [<matplotlib.lines.Line2D at 0x24f96aaa8b0>],\n",
       " 'means': []}"
      ]
     },
     "execution_count": 23,
     "metadata": {},
     "output_type": "execute_result"
    },
    {
     "data": {
      "image/png": "[encoded data removed]",
      "text/plain": [
       "<Figure size 432x288 with 1 Axes>"
      ]
     },
     "metadata": {
      "needs_background": "light"
     },
     "output_type": "display_data"
    }
   ],
   "source": [
    "import numpy as np\n",
    "import matplotlib.pyplot as plt\n",
    "\n",
    "april = np.array([271.5, 275.5, 283, 285, 283,\n",
    "\n",
    "279.5, 278.5, 285, 287.5, 286.5,\n",
    "\n",
    "306.5, 304, 295, 294, 295.5,\n",
    "\n",
    "294, 298, 296.5, 299, 304.5])\n",
    "\n",
    "march = np.array([311.0, 317.5, 320.5, 323.0, 315.0,\n",
    "\n",
    "305.5, 307.0, 302.0, 294.0, 290.0,\n",
    "\n",
    "276.5, 268.0, 260.0, 248.0, 270.0,\n",
    "\n",
    "255.0, 267.5, 277.0, 280.0, 273.0,\n",
    "\n",
    "267.5, 274.0])\n",
    "\n",
    "x = np.diff(april)                #這行程式能計算出每日股價相對於前一日的漲跌金額\n",
    "\n",
    "plt.boxplot([x])"
   ]
  },
  {
   "cell_type": "code",
   "execution_count": 8,
   "id": "c42f97dd",
   "metadata": {},
   "outputs": [
    {
     "name": "stdout",
     "output_type": "stream",
     "text": [
      "[1 2 3 4]\n"
     ]
    }
   ],
   "source": [
    "import numpy as np\n",
    "d=np.arange(1,5)\n",
    "print(d)"
   ]
  },
  {
   "cell_type": "code",
   "execution_count": null,
   "id": "62c9fe76",
   "metadata": {},
   "outputs": [],
   "source": []
  }
 ],
 "metadata": {
  "kernelspec": {
   "display_name": "Python 3",
   "language": "python",
   "name": "python3"
  },
  "language_info": {
   "codemirror_mode": {
    "name": "ipython",
    "version": 3
   },
   "file_extension": ".py",
   "mimetype": "text/x-python",
   "name": "python",
   "nbconvert_exporter": "python",
   "pygments_lexer": "ipython3",
   "version": "3.8.8"
  }
 },
 "nbformat": 4,
 "nbformat_minor": 5
}
