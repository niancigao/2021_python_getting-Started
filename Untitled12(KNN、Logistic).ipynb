{
 "cells": [
  {
   "cell_type": "code",
   "execution_count": 1,
   "id": "25807f13",
   "metadata": {},
   "outputs": [],
   "source": [
    "#12-0 資料分類 (classification)\n",
    "#用資料判斷是啥東西(分類)\n",
    "#12-1 KNN (K 近鄰 K-nearest neighbors) 預測模型\n",
    "#分類器 每筆都被比較找你要的個數 然後看頻率 (監督式學習):提供標籤\n",
    "#12-2 邏輯斯 (Logistic) 迴歸模型\n",
    "#12-3 改善邏輯斯迴歸模型\n",
    "\n",
    "#12-4 主成分分析 (PCA):減少需分析的變數"
   ]
  },
  {
   "cell_type": "code",
   "execution_count": 2,
   "id": "c45f1e77",
   "metadata": {},
   "outputs": [],
   "source": [
    "from sklearn import datasets\n",
    "from sklearn.model_selection import train_test_split\n",
    "\n",
    "data,target = datasets.load_wine(return_X_y=True)    #大寫\n",
    "\n",
    "data_train, data_test, target_train, target_test = train_test_split(data,target,test_size=0.2,random_state=0)"
   ]
  },
  {
   "cell_type": "code",
   "execution_count": 3,
   "id": "22a853f7",
   "metadata": {},
   "outputs": [
    {
     "name": "stdout",
     "output_type": "stream",
     "text": [
      "[0 1 1 0 1 1 0 2 1 1 0 1 0 2 0 1 0 0 1 0 1 0 2 1 1 1 1 1 2 2 0 0 1 0 0 0]\n",
      "[0 2 1 0 1 1 0 2 1 1 2 2 0 1 2 1 0 0 1 0 1 0 0 1 1 1 1 1 1 2 0 0 1 0 0 0]\n"
     ]
    }
   ],
   "source": [
    "from sklearn.neighbors import KNeighborsClassifier\n",
    "\n",
    "knn =  KNeighborsClassifier(n_neighbors=5)\n",
    "knn.fit(data_train,target_train)\n",
    "\n",
    "predictions = knn.predict(data_test)\n",
    "\n",
    "print(predictions)\n",
    "print(target_test)"
   ]
  },
  {
   "cell_type": "code",
   "execution_count": 4,
   "id": "24285a89",
   "metadata": {},
   "outputs": [
    {
     "name": "stdout",
     "output_type": "stream",
     "text": [
      "0.789\n",
      "0.806\n"
     ]
    }
   ],
   "source": [
    "# Accuracy 準確率\n",
    "\n",
    "print(knn.score(data_train,target_train).round(3))\n",
    "print(knn.score(data_test,target_test).round(3))"
   ]
  },
  {
   "cell_type": "code",
   "execution_count": 5,
   "id": "c5ee3e2d",
   "metadata": {},
   "outputs": [
    {
     "name": "stdout",
     "output_type": "stream",
     "text": [
      "              precision    recall  f1-score   support\n",
      "\n",
      "           0       0.87      0.93      0.90        14\n",
      "           1       0.88      0.88      0.88        16\n",
      "           2       0.40      0.33      0.36         6\n",
      "\n",
      "    accuracy                           0.81        36\n",
      "   macro avg       0.71      0.71      0.71        36\n",
      "weighted avg       0.79      0.81      0.80        36\n",
      "\n"
     ]
    }
   ],
   "source": [
    "from sklearn.metrics import classification_report\n",
    "\n",
    "print(classification_report(target_test,predictions))"
   ]
  },
  {
   "cell_type": "code",
   "execution_count": 6,
   "id": "2cbe5397",
   "metadata": {},
   "outputs": [],
   "source": [
    "#邏輯斯迴歸 (Logistic Regression):二分法分類器\n",
    "#邏輯斯迴歸與線性迴歸相同會以自變數來算出目標值。\n",
    "#兩者差別在邏輯斯迴歸中預測值會介於0~1之間\n",
    "#它的值可當成出現某分類的機率,讓模型能用來判斷資料的分類。"
   ]
  },
  {
   "cell_type": "code",
   "execution_count": 7,
   "id": "b53b9430",
   "metadata": {},
   "outputs": [],
   "source": [
    "from sklearn import datasets\n",
    "from sklearn.model_selection import train_test_split\n",
    "\n",
    "data,target = datasets.load_wine(return_X_y=True)    #大寫\n",
    "\n",
    "data_train, data_test, target_train, target_test = train_test_split(data,target,test_size=0.2,random_state=0)"
   ]
  },
  {
   "cell_type": "code",
   "execution_count": 8,
   "id": "9bfc0af6",
   "metadata": {
    "scrolled": true
   },
   "outputs": [
    {
     "name": "stdout",
     "output_type": "stream",
     "text": [
      "[0 2 1 0 1 1 0 2 1 1 2 2 0 1 2 1 0 0 2 0 0 0 1 1 1 1 1 1 1 2 0 0 1 0 0 0]\n",
      "[0 2 1 0 1 1 0 2 1 1 2 2 0 1 2 1 0 0 1 0 1 0 0 1 1 1 1 1 1 2 0 0 1 0 0 0]\n"
     ]
    },
    {
     "name": "stderr",
     "output_type": "stream",
     "text": [
      "C:\\Users\\user\\anaconda3\\lib\\site-packages\\sklearn\\linear_model\\_logistic.py:763: ConvergenceWarning: lbfgs failed to converge (status=1):\n",
      "STOP: TOTAL NO. of ITERATIONS REACHED LIMIT.\n",
      "\n",
      "Increase the number of iterations (max_iter) or scale the data as shown in:\n",
      "    https://scikit-learn.org/stable/modules/preprocessing.html\n",
      "Please also refer to the documentation for alternative solver options:\n",
      "    https://scikit-learn.org/stable/modules/linear_model.html#logistic-regression\n",
      "  n_iter_i = _check_optimize_result(\n"
     ]
    }
   ],
   "source": [
    "from sklearn.linear_model import LogisticRegression\n",
    "\n",
    "log_model = LogisticRegression()\n",
    "log_model.fit(data_train,target_train)\n",
    "predictions = log_model.predict(data_test)\n",
    "\n",
    "print(predictions)\n",
    "print(target_test)"
   ]
  },
  {
   "cell_type": "code",
   "execution_count": 9,
   "id": "f44db39f",
   "metadata": {},
   "outputs": [
    {
     "name": "stdout",
     "output_type": "stream",
     "text": [
      "0.986\n",
      "0.917\n"
     ]
    }
   ],
   "source": [
    "print(log_model.score(data_train,target_train).round(3))\n",
    "print(log_model.score(data_test,target_test).round(3))"
   ]
  },
  {
   "cell_type": "code",
   "execution_count": 10,
   "id": "516119db",
   "metadata": {},
   "outputs": [
    {
     "name": "stdout",
     "output_type": "stream",
     "text": [
      "              precision    recall  f1-score   support\n",
      "\n",
      "           0       0.93      0.93      0.93        14\n",
      "           1       0.93      0.88      0.90        16\n",
      "           2       0.86      1.00      0.92         6\n",
      "\n",
      "    accuracy                           0.92        36\n",
      "   macro avg       0.91      0.93      0.92        36\n",
      "weighted avg       0.92      0.92      0.92        36\n",
      "\n"
     ]
    }
   ],
   "source": [
    "from sklearn.metrics import classification_report\n",
    "\n",
    "print(classification_report(target_test,predictions))"
   ]
  },
  {
   "cell_type": "code",
   "execution_count": 11,
   "id": "f0bd37ec",
   "metadata": {},
   "outputs": [
    {
     "name": "stdout",
     "output_type": "stream",
     "text": [
      "[0 2 1 0 1 1 0 2 1 1 2 2 0 1 2 1 0 0 2 0 1 0 0 1 1 1 1 1 1 2 0 0 1 0 0 0]\n",
      "[0 2 1 0 1 1 0 2 1 1 2 2 0 1 2 1 0 0 1 0 1 0 0 1 1 1 1 1 1 2 0 0 1 0 0 0]\n"
     ]
    }
   ],
   "source": [
    "from sklearn.linear_model import LogisticRegression\n",
    "\n",
    "log_model = LogisticRegression()\n",
    "\n",
    "log_model = LogisticRegression(max_iter=10000)\n",
    "\n",
    "log_model.fit(data_train,target_train)\n",
    "predictions = log_model.predict(data_test)\n",
    "\n",
    "print(predictions)\n",
    "print(target_test)"
   ]
  },
  {
   "cell_type": "code",
   "execution_count": 12,
   "id": "8b6e93b9",
   "metadata": {},
   "outputs": [
    {
     "name": "stdout",
     "output_type": "stream",
     "text": [
      "0.993\n",
      "0.972\n"
     ]
    }
   ],
   "source": [
    "print(log_model.score(data_train,target_train).round(3))\n",
    "print(log_model.score(data_test,target_test).round(3))"
   ]
  },
  {
   "cell_type": "code",
   "execution_count": 13,
   "id": "2ac331df",
   "metadata": {},
   "outputs": [
    {
     "name": "stdout",
     "output_type": "stream",
     "text": [
      "              precision    recall  f1-score   support\n",
      "\n",
      "           0       1.00      1.00      1.00        14\n",
      "           1       1.00      0.94      0.97        16\n",
      "           2       0.86      1.00      0.92         6\n",
      "\n",
      "    accuracy                           0.97        36\n",
      "   macro avg       0.95      0.98      0.96        36\n",
      "weighted avg       0.98      0.97      0.97        36\n",
      "\n"
     ]
    }
   ],
   "source": [
    "from sklearn.metrics import classification_report\n",
    "\n",
    "print(classification_report(target_test,predictions))"
   ]
  },
  {
   "cell_type": "code",
   "execution_count": 14,
   "id": "d2526ccf",
   "metadata": {},
   "outputs": [
    {
     "name": "stderr",
     "output_type": "stream",
     "text": [
      "[Parallel(n_jobs=1)]: Using backend SequentialBackend with 1 concurrent workers.\n"
     ]
    },
    {
     "name": "stdout",
     "output_type": "stream",
     "text": [
      "[0 2 1 0 1 1 0 2 1 1 2 2 0 1 2 1 0 0 2 0 1 0 0 1 1 1 1 1 1 2 0 0 1 0 0 0]\n",
      "[0 2 1 0 1 1 0 2 1 1 2 2 0 1 2 1 0 0 1 0 1 0 0 1 1 1 1 1 1 2 0 0 1 0 0 0]\n"
     ]
    },
    {
     "name": "stderr",
     "output_type": "stream",
     "text": [
      "[Parallel(n_jobs=1)]: Done   1 out of   1 | elapsed:    1.6s finished\n"
     ]
    }
   ],
   "source": [
    "from sklearn.linear_model import LogisticRegression\n",
    "\n",
    "log_model = LogisticRegression()\n",
    "\n",
    "log_model = LogisticRegression(max_iter=10000,verbose=True)\n",
    "\n",
    "log_model.fit(data_train,target_train)\n",
    "predictions = log_model.predict(data_test)\n",
    "\n",
    "print(predictions)\n",
    "print(target_test)"
   ]
  },
  {
   "cell_type": "code",
   "execution_count": 15,
   "id": "d3d0d540",
   "metadata": {},
   "outputs": [],
   "source": [
    "#改善邏輯斯迴歸模型\n",
    "#資料標準化 (standardization)"
   ]
  },
  {
   "cell_type": "code",
   "execution_count": 16,
   "id": "84a322f0",
   "metadata": {},
   "outputs": [
    {
     "name": "stdout",
     "output_type": "stream",
     "text": [
      "0.0\n",
      "1.0\n"
     ]
    }
   ],
   "source": [
    "import numpy as np\n",
    "\n",
    "data_std = np.array([-1.41421356,-0.70710678,0,0.70710678,1.41421356])\n",
    "\n",
    "print(data_std.mean().round(3))\n",
    "print(data_std.std().round(3))"
   ]
  },
  {
   "cell_type": "code",
   "execution_count": 17,
   "id": "58c6f225",
   "metadata": {},
   "outputs": [],
   "source": [
    "from sklearn.preprocessing import StandardScaler\n",
    "\n",
    "sc = StandardScaler()\n",
    "data_std = sc.fit_transform(data)\n",
    "\n",
    "data_train,data_test,target_train,target_test = train_test_split(data_std,target,test_size=0.2,random_state=0)"
   ]
  },
  {
   "cell_type": "code",
   "execution_count": 21,
   "id": "e90251fe",
   "metadata": {},
   "outputs": [
    {
     "name": "stdout",
     "output_type": "stream",
     "text": [
      "0.387\n",
      "0.444\n"
     ]
    }
   ],
   "source": [
    "print(log_model.score(data_train,target_train).round(3))\n",
    "print(log_model.score(data_test,target_test).round(3))"
   ]
  },
  {
   "cell_type": "code",
   "execution_count": null,
   "id": "cad88c18",
   "metadata": {},
   "outputs": [],
   "source": []
  }
 ],
 "metadata": {
  "kernelspec": {
   "display_name": "Python 3",
   "language": "python",
   "name": "python3"
  },
  "language_info": {
   "codemirror_mode": {
    "name": "ipython",
    "version": 3
   },
   "file_extension": ".py",
   "mimetype": "text/x-python",
   "name": "python",
   "nbconvert_exporter": "python",
   "pygments_lexer": "ipython3",
   "version": "3.8.8"
  }
 },
 "nbformat": 4,
 "nbformat_minor": 5
}
