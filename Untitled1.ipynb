{
 "cells": [
  {
   "cell_type": "code",
   "execution_count": 15,
   "id": "81064ed5",
   "metadata": {},
   "outputs": [
    {
     "data": {
      "text/plain": [
       "3"
      ]
     },
     "execution_count": 15,
     "metadata": {},
     "output_type": "execute_result"
    }
   ],
   "source": [
    "1+2"
   ]
  },
  {
   "cell_type": "code",
   "execution_count": 16,
   "id": "4b6e609a",
   "metadata": {},
   "outputs": [
    {
     "data": {
      "text/plain": [
       "-7"
      ]
     },
     "execution_count": 16,
     "metadata": {},
     "output_type": "execute_result"
    }
   ],
   "source": [
    "1-8"
   ]
  },
  {
   "cell_type": "code",
   "execution_count": 17,
   "id": "e3bead8f",
   "metadata": {},
   "outputs": [
    {
     "data": {
      "text/plain": [
       "63"
      ]
     },
     "execution_count": 17,
     "metadata": {},
     "output_type": "execute_result"
    }
   ],
   "source": [
    "7*9"
   ]
  },
  {
   "cell_type": "code",
   "execution_count": 18,
   "id": "4541ff29",
   "metadata": {},
   "outputs": [
    {
     "data": {
      "text/plain": [
       "3.3333333333333335"
      ]
     },
     "execution_count": 18,
     "metadata": {},
     "output_type": "execute_result"
    }
   ],
   "source": [
    "10/3"
   ]
  },
  {
   "cell_type": "code",
   "execution_count": 19,
   "id": "8057987f",
   "metadata": {},
   "outputs": [
    {
     "data": {
      "text/plain": [
       "3"
      ]
     },
     "execution_count": 19,
     "metadata": {},
     "output_type": "execute_result"
    }
   ],
   "source": [
    "10//3"
   ]
  },
  {
   "cell_type": "code",
   "execution_count": 20,
   "id": "2bc8683e",
   "metadata": {},
   "outputs": [
    {
     "data": {
      "text/plain": [
       "1"
      ]
     },
     "execution_count": 20,
     "metadata": {},
     "output_type": "execute_result"
    }
   ],
   "source": [
    "10%3"
   ]
  },
  {
   "cell_type": "code",
   "execution_count": 21,
   "id": "1977d13d",
   "metadata": {},
   "outputs": [
    {
     "data": {
      "text/plain": [
       "10000"
      ]
     },
     "execution_count": 21,
     "metadata": {},
     "output_type": "execute_result"
    }
   ],
   "source": [
    "10**4"
   ]
  },
  {
   "cell_type": "code",
   "execution_count": 22,
   "id": "30e5666f",
   "metadata": {},
   "outputs": [
    {
     "data": {
      "text/plain": [
       "5.0"
      ]
     },
     "execution_count": 22,
     "metadata": {},
     "output_type": "execute_result"
    }
   ],
   "source": [
    "6/2+1*2"
   ]
  },
  {
   "cell_type": "code",
   "execution_count": 23,
   "id": "38d1ba5b",
   "metadata": {},
   "outputs": [
    {
     "data": {
      "text/plain": [
       "4.0"
      ]
     },
     "execution_count": 23,
     "metadata": {},
     "output_type": "execute_result"
    }
   ],
   "source": [
    "6/(2+1)*2"
   ]
  },
  {
   "cell_type": "markdown",
   "id": "b47e39e5",
   "metadata": {},
   "source": [
    "int(整數) float(浮點) str(字串)"
   ]
  },
  {
   "cell_type": "code",
   "execution_count": 31,
   "id": "438f0017",
   "metadata": {},
   "outputs": [
    {
     "data": {
      "text/plain": [
       "5.0"
      ]
     },
     "execution_count": 31,
     "metadata": {},
     "output_type": "execute_result"
    }
   ],
   "source": [
    "10/2 "
   ]
  },
  {
   "cell_type": "code",
   "execution_count": 30,
   "id": "2880ab29",
   "metadata": {},
   "outputs": [
    {
     "data": {
      "text/plain": [
       "'浮點數'"
      ]
     },
     "execution_count": 30,
     "metadata": {},
     "output_type": "execute_result"
    }
   ],
   "source": [
    "\"浮點數\""
   ]
  },
  {
   "cell_type": "code",
   "execution_count": 25,
   "id": "4964f9f4",
   "metadata": {},
   "outputs": [
    {
     "data": {
      "text/plain": [
       "5"
      ]
     },
     "execution_count": 25,
     "metadata": {},
     "output_type": "execute_result"
    }
   ],
   "source": [
    "10//2 "
   ]
  },
  {
   "cell_type": "code",
   "execution_count": 32,
   "id": "c489f379",
   "metadata": {},
   "outputs": [
    {
     "data": {
      "text/plain": [
       "'整數'"
      ]
     },
     "execution_count": 32,
     "metadata": {},
     "output_type": "execute_result"
    }
   ],
   "source": [
    "\"整數\""
   ]
  },
  {
   "cell_type": "code",
   "execution_count": 33,
   "id": "f3c3018a",
   "metadata": {},
   "outputs": [
    {
     "name": "stdout",
     "output_type": "stream",
     "text": [
      "Object `是在哈囉` not found.\n"
     ]
    }
   ],
   "source": [
    "是在哈囉?"
   ]
  },
  {
   "cell_type": "code",
   "execution_count": 34,
   "id": "1a7ffe83",
   "metadata": {},
   "outputs": [
    {
     "data": {
      "text/plain": [
       "'是在哈囉?'"
      ]
     },
     "execution_count": 34,
     "metadata": {},
     "output_type": "execute_result"
    }
   ],
   "source": [
    "'是在哈囉?'"
   ]
  },
  {
   "cell_type": "code",
   "execution_count": 36,
   "id": "1dd5be5f",
   "metadata": {},
   "outputs": [
    {
     "data": {
      "text/plain": [
       "'110'"
      ]
     },
     "execution_count": 36,
     "metadata": {},
     "output_type": "execute_result"
    }
   ],
   "source": [
    "\"1\"+\"10\""
   ]
  },
  {
   "cell_type": "code",
   "execution_count": 37,
   "id": "59b3fd61",
   "metadata": {},
   "outputs": [
    {
     "ename": "TypeError",
     "evalue": "can only concatenate str (not \"int\") to str",
     "output_type": "error",
     "traceback": [
      "\u001b[1;31m---------------------------------------------------------------------------\u001b[0m",
      "\u001b[1;31mTypeError\u001b[0m                                 Traceback (most recent call last)",
      "\u001b[1;32m<ipython-input-37-d9f6420d3d87>\u001b[0m in \u001b[0;36m<module>\u001b[1;34m\u001b[0m\n\u001b[1;32m----> 1\u001b[1;33m \u001b[1;34m'1'\u001b[0m\u001b[1;33m+\u001b[0m\u001b[1;36m1\u001b[0m\u001b[1;33m\u001b[0m\u001b[1;33m\u001b[0m\u001b[0m\n\u001b[0m",
      "\u001b[1;31mTypeError\u001b[0m: can only concatenate str (not \"int\") to str"
     ]
    }
   ],
   "source": [
    "'1'+1"
   ]
  },
  {
   "cell_type": "code",
   "execution_count": 38,
   "id": "b4e8cf02",
   "metadata": {},
   "outputs": [
    {
     "data": {
      "text/plain": [
       "'中山大學我愛你'"
      ]
     },
     "execution_count": 38,
     "metadata": {},
     "output_type": "execute_result"
    }
   ],
   "source": [
    "\"中山大學\"+'我愛你'"
   ]
  },
  {
   "cell_type": "code",
   "execution_count": 40,
   "id": "8ef5a596",
   "metadata": {},
   "outputs": [
    {
     "data": {
      "text/plain": [
       "'高念慈 今天10月4號 天氣悶'"
      ]
     },
     "execution_count": 40,
     "metadata": {},
     "output_type": "execute_result"
    }
   ],
   "source": [
    "\"高念慈\" ' 今天10月4號 天氣悶'"
   ]
  },
  {
   "cell_type": "code",
   "execution_count": 41,
   "id": "0a6e04aa",
   "metadata": {},
   "outputs": [
    {
     "data": {
      "text/plain": [
       "'??????????'"
      ]
     },
     "execution_count": 41,
     "metadata": {},
     "output_type": "execute_result"
    }
   ],
   "source": [
    "'?'*10"
   ]
  },
  {
   "cell_type": "markdown",
   "id": "ad769a79",
   "metadata": {},
   "source": [
    "字串遇到符號，重複指定次數"
   ]
  },
  {
   "cell_type": "code",
   "execution_count": 42,
   "id": "caebc3f7",
   "metadata": {},
   "outputs": [
    {
     "name": "stdout",
     "output_type": "stream",
     "text": [
      "6.0\n"
     ]
    }
   ],
   "source": [
    "print(2*3.0)"
   ]
  },
  {
   "cell_type": "code",
   "execution_count": 46,
   "id": "1e0cccb9",
   "metadata": {},
   "outputs": [
    {
     "name": "stdout",
     "output_type": "stream",
     "text": [
      "1.5\n"
     ]
    }
   ],
   "source": [
    "print(3/2)"
   ]
  },
  {
   "cell_type": "markdown",
   "id": "63fce1db",
   "metadata": {},
   "source": [
    "一般除法，結果一定是浮點數"
   ]
  },
  {
   "cell_type": "code",
   "execution_count": 44,
   "id": "bd3271fb",
   "metadata": {},
   "outputs": [
    {
     "name": "stdout",
     "output_type": "stream",
     "text": [
      "1.0\n"
     ]
    }
   ],
   "source": [
    "print(3.0//2)"
   ]
  },
  {
   "cell_type": "code",
   "execution_count": 45,
   "id": "207d1159",
   "metadata": {},
   "outputs": [
    {
     "name": "stdout",
     "output_type": "stream",
     "text": [
      "1\n"
     ]
    }
   ],
   "source": [
    "print(3//2)"
   ]
  },
  {
   "cell_type": "code",
   "execution_count": 47,
   "id": "96b58bab",
   "metadata": {},
   "outputs": [
    {
     "data": {
      "text/plain": [
       "2.0"
      ]
     },
     "execution_count": 47,
     "metadata": {},
     "output_type": "execute_result"
    }
   ],
   "source": [
    "4/2"
   ]
  },
  {
   "cell_type": "code",
   "execution_count": 48,
   "id": "70c45717",
   "metadata": {},
   "outputs": [
    {
     "name": "stdout",
     "output_type": "stream",
     "text": [
      "中山\n"
     ]
    }
   ],
   "source": [
    "print(\"中山\")"
   ]
  },
  {
   "cell_type": "code",
   "execution_count": 68,
   "id": "119af5b1",
   "metadata": {},
   "outputs": [
    {
     "name": "stdout",
     "output_type": "stream",
     "text": [
      "114000\n"
     ]
    }
   ],
   "source": [
    "balance = 100000\n",
    "income = 35000\n",
    "expense = 21000\n",
    "\n",
    "print(balance + income - expense)"
   ]
  },
  {
   "cell_type": "code",
   "execution_count": 69,
   "id": "284a0c3a",
   "metadata": {},
   "outputs": [],
   "source": [
    "balance = balance + income - expense"
   ]
  },
  {
   "cell_type": "code",
   "execution_count": 70,
   "id": "4f0e6b09",
   "metadata": {},
   "outputs": [
    {
     "data": {
      "text/plain": [
       "114000"
      ]
     },
     "execution_count": 70,
     "metadata": {},
     "output_type": "execute_result"
    }
   ],
   "source": [
    "balance"
   ]
  },
  {
   "cell_type": "code",
   "execution_count": 59,
   "id": "d85140a8",
   "metadata": {},
   "outputs": [
    {
     "name": "stdout",
     "output_type": "stream",
     "text": [
      "666 Life，the Universe and Everything\n",
      "666\n",
      "Life，the Universe and Everything\n"
     ]
    }
   ],
   "source": [
    "x= 666\n",
    "y= \"Life，the Universe and Everything\"\n",
    "\n",
    "print(x,y)\n",
    "print(x)\n",
    "print(y)"
   ]
  },
  {
   "cell_type": "code",
   "execution_count": 67,
   "id": "51184b8e",
   "metadata": {},
   "outputs": [
    {
     "name": "stdout",
     "output_type": "stream",
     "text": [
      "87\n"
     ]
    }
   ],
   "source": [
    "z= 78 + 9\n",
    "print(z)"
   ]
  },
  {
   "cell_type": "code",
   "execution_count": 72,
   "id": "82f74dc4",
   "metadata": {},
   "outputs": [
    {
     "ename": "NameError",
     "evalue": "name 'v' is not defined",
     "output_type": "error",
     "traceback": [
      "\u001b[1;31m---------------------------------------------------------------------------\u001b[0m",
      "\u001b[1;31mNameError\u001b[0m                                 Traceback (most recent call last)",
      "\u001b[1;32m<ipython-input-72-d0aa4386ac53>\u001b[0m in \u001b[0;36m<module>\u001b[1;34m\u001b[0m\n\u001b[1;32m----> 1\u001b[1;33m \u001b[0mv\u001b[0m\u001b[1;33m\u001b[0m\u001b[1;33m\u001b[0m\u001b[0m\n\u001b[0m",
      "\u001b[1;31mNameError\u001b[0m: name 'v' is not defined"
     ]
    }
   ],
   "source": [
    "v"
   ]
  },
  {
   "cell_type": "code",
   "execution_count": 75,
   "id": "22935c59",
   "metadata": {},
   "outputs": [
    {
     "name": "stdout",
     "output_type": "stream",
     "text": [
      "114000\n"
     ]
    }
   ],
   "source": [
    "balance = 100000\n",
    "income = 35000\n",
    "expense = 21000\n",
    "\n",
    "balance = balance + income - expense\n",
    "print(balance)"
   ]
  },
  {
   "cell_type": "code",
   "execution_count": 81,
   "id": "3e82d2eb",
   "metadata": {},
   "outputs": [
    {
     "name": "stdout",
     "output_type": "stream",
     "text": [
      "<class 'int'>\n",
      "<class 'float'>\n",
      "<class 'str'>\n",
      "<class 'str'>\n"
     ]
    }
   ],
   "source": [
    "x = 9527\n",
    "y = 2.71285462\n",
    "z = \"四樓最專業\"\n",
    "w = \"iiiiiiiii\"\n",
    "\n",
    "print(type(x))\n",
    "print(type(y))\n",
    "print(type(z))\n",
    "print(type(w))"
   ]
  },
  {
   "cell_type": "code",
   "execution_count": 82,
   "id": "d6d57d4b",
   "metadata": {},
   "outputs": [
    {
     "name": "stdout",
     "output_type": "stream",
     "text": [
      "<class 'str'>\n"
     ]
    }
   ],
   "source": [
    "x = \"那個男人也許會遲到，但永遠不會缺席\"\n",
    "print(type(x))"
   ]
  },
  {
   "cell_type": "code",
   "execution_count": 83,
   "id": "38f243ce",
   "metadata": {},
   "outputs": [
    {
     "ename": "SyntaxError",
     "evalue": "leading zeros in decimal integer literals are not permitted; use an 0o prefix for octal integers (<ipython-input-83-6c1334eebf36>, line 1)",
     "output_type": "error",
     "traceback": [
      "\u001b[1;36m  File \u001b[1;32m\"<ipython-input-83-6c1334eebf36>\"\u001b[1;36m, line \u001b[1;32m1\u001b[0m\n\u001b[1;33m    0204 = \"忙線中\"\u001b[0m\n\u001b[1;37m       ^\u001b[0m\n\u001b[1;31mSyntaxError\u001b[0m\u001b[1;31m:\u001b[0m leading zeros in decimal integer literals are not permitted; use an 0o prefix for octal integers\n"
     ]
    }
   ],
   "source": [
    "0204 = \"忙線中\""
   ]
  },
  {
   "cell_type": "code",
   "execution_count": 84,
   "id": "a6d44de1",
   "metadata": {},
   "outputs": [],
   "source": [
    "_0240 = \"忙\""
   ]
  },
  {
   "cell_type": "code",
   "execution_count": 85,
   "id": "6239d9cc",
   "metadata": {},
   "outputs": [
    {
     "ename": "SyntaxError",
     "evalue": "leading zeros in decimal integer literals are not permitted; use an 0o prefix for octal integers (<ipython-input-85-9fa070170303>, line 1)",
     "output_type": "error",
     "traceback": [
      "\u001b[1;36m  File \u001b[1;32m\"<ipython-input-85-9fa070170303>\"\u001b[1;36m, line \u001b[1;32m1\u001b[0m\n\u001b[1;33m    -0240 = \"喔\"\u001b[0m\n\u001b[1;37m        ^\u001b[0m\n\u001b[1;31mSyntaxError\u001b[0m\u001b[1;31m:\u001b[0m leading zeros in decimal integer literals are not permitted; use an 0o prefix for octal integers\n"
     ]
    }
   ],
   "source": [
    "-0240 = \"喔\""
   ]
  },
  {
   "cell_type": "code",
   "execution_count": 89,
   "id": "c1c95f54",
   "metadata": {},
   "outputs": [],
   "source": [
    "none = \"iii\""
   ]
  },
  {
   "cell_type": "code",
   "execution_count": 88,
   "id": "b0a048c8",
   "metadata": {},
   "outputs": [
    {
     "ename": "SyntaxError",
     "evalue": "cannot assign to None (<ipython-input-88-cb0e21781f12>, line 1)",
     "output_type": "error",
     "traceback": [
      "\u001b[1;36m  File \u001b[1;32m\"<ipython-input-88-cb0e21781f12>\"\u001b[1;36m, line \u001b[1;32m1\u001b[0m\n\u001b[1;33m    None = \"此地無銀三百兩\"\u001b[0m\n\u001b[1;37m    ^\u001b[0m\n\u001b[1;31mSyntaxError\u001b[0m\u001b[1;31m:\u001b[0m cannot assign to None\n"
     ]
    }
   ],
   "source": [
    "None = \"此地無銀三百兩\""
   ]
  },
  {
   "cell_type": "code",
   "execution_count": 90,
   "id": "9ba1f5e0",
   "metadata": {},
   "outputs": [],
   "source": [
    "None_ = \"此地無銀三百兩\""
   ]
  },
  {
   "cell_type": "markdown",
   "id": "74bcece2",
   "metadata": {},
   "source": [
    "print要是拿去當變數，之後就用不了了(用重開檔案)"
   ]
  },
  {
   "cell_type": "code",
   "execution_count": 1,
   "id": "648de8af",
   "metadata": {},
   "outputs": [
    {
     "name": "stdout",
     "output_type": "stream",
     "text": [
      "please input an integer a: -88\n",
      "please input an integer b: 2.5\n",
      "please input an integer c: 684\n",
      "有二個實數解:\n",
      "-2.7737927719471127\n",
      "2.802201862856204\n"
     ]
    }
   ],
   "source": [
    "import math\n",
    "while True:\n",
    "    a = float(input(\"please input an integer a: \"))\n",
    "    if a == 0:\n",
    "        print('a 不可為 0 ! 請重新輸入')\n",
    "    else:\n",
    "        break #stops the while loop\n",
    "b = float(input(\"please input an integer b: \"))\n",
    "c = float(input(\"please input an integer c: \"))\n",
    "D=(b**2-4*a*c)\n",
    "if D<0:\n",
    "    print('無實數解')\n",
    "elif D==0:\n",
    "    print('有一實數解:')\n",
    "    print(b*(-1)/(a*2))\n",
    "else:\n",
    "    print('有二個實數解:')\n",
    "    print((-1*b+math.sqrt(D))/(2*a))\n",
    "    print((-1*b-math.sqrt(D))/(2*a))"
   ]
  },
  {
   "cell_type": "code",
   "execution_count": null,
   "id": "b9dbec6f",
   "metadata": {},
   "outputs": [],
   "source": []
  }
 ],
 "metadata": {
  "kernelspec": {
   "display_name": "Python 3",
   "language": "python",
   "name": "python3"
  },
  "language_info": {
   "codemirror_mode": {
    "name": "ipython",
    "version": 3
   },
   "file_extension": ".py",
   "mimetype": "text/x-python",
   "name": "python",
   "nbconvert_exporter": "python",
   "pygments_lexer": "ipython3",
   "version": "3.8.8"
  }
 },
 "nbformat": 4,
 "nbformat_minor": 5
}
