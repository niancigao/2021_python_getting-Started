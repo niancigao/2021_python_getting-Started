{
 "cells": [
  {
   "cell_type": "code",
   "execution_count": 1,
   "id": "e81c00c9",
   "metadata": {},
   "outputs": [],
   "source": [
    "import numpy as np\n",
    "import matplotlib.pyplot as plt\n",
    "from scipy.stats import*                    #SciPy架構在NumPy上面\n",
    "                                            #stats 為其中一個子套件(統計函數)\n",
    "                                            #這個寫法會 import 模組中所有的名稱(可不用再打開頭)，除了使用底線（_）開頭的名稱\n",
    "                                            #但是這樣的寫法，可能會在引用的過程中，發生同名方法覆寫的風險                          \n",
    "                                            #所以建議引用所需要的物件即可\n",
    "                                            #import scipy.stats as st(這就要打開頭)\n",
    "from scipy.stats.mstats import mquantiles   #mquantiles(分位數) EX:四分位數\n",
    "                                            #不打也不會影響，因為scipy.stats裡也有分位數 (差在API)\n",
    "                                            #也可直接在後面用 np.percentile(樣本陣列,分位數) 代替"
   ]
  },
  {
   "cell_type": "code",
   "execution_count": 2,
   "id": "3e133626",
   "metadata": {},
   "outputs": [
    {
     "name": "stdout",
     "output_type": "stream",
     "text": [
      "1.1706770418096886\n",
      "1.1825020624340283\n",
      "1.182502062434029\n",
      "1.1706770418096881\n"
     ]
    }
   ],
   "source": [
    "n = 100\n",
    "X = norm.rvs(loc=0,scale=1,size=n)          #隨機變數 (位置,規模,樣本數)\n",
    "                                            #import scipy.stats as st\n",
    "                                            #st.norm.rvs(loc = 0,scale = 1,size=n)\n",
    "meanX = np.mean(X)\n",
    "medianX = np.median(X)\n",
    "varX = np.var(X)\n",
    "Sample_varX = sum([(item-meanX)**2 for item in X])/(n-1)                #樣本變異數公式\n",
    "varX2 = np.var(X,ddof=1)                    #ddof=1提供了一個假設的無限總體方差的無偏估計\n",
    "print (varX)                                #MLE\n",
    "print (Sample_varX)                         #不偏\n",
    "print (varX2)                               #不偏\n",
    "print (Sample_varX*(n-1)/n)                 #MLE"
   ]
  },
  {
   "cell_type": "code",
   "execution_count": 3,
   "id": "1b7b209e",
   "metadata": {},
   "outputs": [
    {
     "name": "stdout",
     "output_type": "stream",
     "text": [
      "[      -inf 1.64485363]\n",
      "[-1.95996398  1.95996398]\n",
      "(-1.959963984540054, 1.959963984540054)\n"
     ]
    }
   ],
   "source": [
    "# Two ways to find interval\n",
    "\n",
    "\n",
    "oneCI95 = norm.ppf([0.0,0.95],loc=0,scale=1)       #st.norm.ppf()\n",
    "twoCI95 = norm.ppf([0.025,0.975],loc=0,scale=1)    #ppf(q, loc=0, scale=1) \n",
    "                                                   #percentage point function(百分比點函數 = cdf的倒數(ICDF) = 百分位數）\n",
    "Area95 = norm.interval(0.95,loc=0,scale=1)         \n",
    "print(oneCI95)\n",
    "print(twoCI95)\n",
    "print(Area95)"
   ]
  },
  {
   "cell_type": "code",
   "execution_count": 4,
   "id": "c4a1cf6c",
   "metadata": {
    "scrolled": true
   },
   "outputs": [
    {
     "name": "stdout",
     "output_type": "stream",
     "text": [
      "0.8849303297782918\n"
     ]
    }
   ],
   "source": [
    "# Calculate probability density P(X<1.2) when X~N(0,1)\n",
    "\n",
    "\n",
    "Pro = norm.cdf(1.2,loc=0,scale=1)\n",
    "print(Pro)"
   ]
  },
  {
   "cell_type": "code",
   "execution_count": 5,
   "id": "65b76c9d",
   "metadata": {
    "scrolled": true
   },
   "outputs": [
    {
     "name": "stdout",
     "output_type": "stream",
     "text": [
      "[-3.05074818 -1.5276948  -0.94848959 -0.54254451 -0.07173425  0.1553895\n",
      "  0.37594461  0.57372475  0.82203723  1.14839241]\n"
     ]
    },
    {
     "data": {
      "image/png": "[encoded data removed]",
      "text/plain": [
       "<Figure size 432x288 with 1 Axes>"
      ]
     },
     "metadata": {
      "needs_background": "light"
     },
     "output_type": "display_data"
    }
   ],
   "source": [
    "# Find percentile of X\n",
    "\n",
    "\n",
    "q = np.linspace(start=0,stop=0.9,num=10) #0-0.9分10等分\n",
    "percentileX = mquantiles(X,prob=q)       #分位數\n",
    "print(percentileX)\n",
    "\n",
    "plt.plot(percentileX)                    #EX:90/100的個數時的值\n",
    "plt.show()                               #在python裡可不打"
   ]
  },
  {
   "cell_type": "code",
   "execution_count": 6,
   "id": "6721b24e",
   "metadata": {},
   "outputs": [
    {
     "data": {
      "text/plain": [
       "<Figure size 432x288 with 0 Axes>"
      ]
     },
     "metadata": {},
     "output_type": "display_data"
    },
    {
     "data": {
      "image/png": "[encoded data removed]",
      "text/plain": [
       "<Figure size 288x288 with 1 Axes>"
      ]
     },
     "metadata": {
      "needs_background": "light"
     },
     "output_type": "display_data"
    }
   ],
   "source": [
    "# Plot the histogram of X\n",
    "\n",
    "\n",
    "plt.figure(1)               #是新建一個名叫Figure1的畫圖窗口 也可不打\n",
    "plt.figure(figsize=(4,4))   #留著方便加其他東西\n",
    "plt.hist(X)\n",
    "plt.show()"
   ]
  },
  {
   "cell_type": "code",
   "execution_count": 7,
   "id": "c3af6a45",
   "metadata": {
    "scrolled": true
   },
   "outputs": [
    {
     "data": {
      "text/plain": [
       "[<matplotlib.lines.Line2D at 0x28f5f18a0d0>]"
      ]
     },
     "execution_count": 7,
     "metadata": {},
     "output_type": "execute_result"
    },
    {
     "data": {
      "image/png": "[encoded data removed]",
      "text/plain": [
       "<Figure size 432x288 with 1 Axes>"
      ]
     },
     "metadata": {
      "needs_background": "light"
     },
     "output_type": "display_data"
    }
   ],
   "source": [
    "# Plot the density function of X  (PDF機率密度函數)\n",
    "\n",
    "\n",
    "plt.figure(2)                     #新建一個名叫Figure2的畫圖窗口\n",
    "density = gaussian_kde(X)         #以無母數方式估計隨機變量的概率密度函數（PDF）的方法\n",
    "                                  #類似直方圖的概念\n",
    "                                  #Kernel density estimation\n",
    "xs = np.linspace(-10,10,200) \n",
    "plt.plot(xs,density(xs))          #PS:MLE 母數點估計(已知分配)"
   ]
  },
  {
   "cell_type": "code",
   "execution_count": 8,
   "id": "7540e455",
   "metadata": {
    "scrolled": false
   },
   "outputs": [
    {
     "data": {
      "text/plain": [
       "((array([-2.46203784, -2.12570747, -1.93122778, -1.79044653, -1.67819304,\n",
       "         -1.58381122, -1.50174123, -1.42869743, -1.36256869, -1.30191411,\n",
       "         -1.24570419, -1.19317644, -1.14374949, -1.09696931, -1.05247413,\n",
       "         -1.00997067, -0.96921765, -0.93001393, -0.89218993, -0.85560121,\n",
       "         -0.82012357, -0.78564937, -0.75208458, -0.71934648, -0.68736185,\n",
       "         -0.65606548, -0.62539893, -0.59530962, -0.56574992, -0.53667655,\n",
       "         -0.50804994, -0.47983378, -0.45199463, -0.42450149, -0.39732558,\n",
       "         -0.37044003, -0.34381966, -0.31744076, -0.29128096, -0.26531902,\n",
       "         -0.23953472, -0.21390872, -0.18842244, -0.16305799, -0.13779803,\n",
       "         -0.1126257 , -0.08752455, -0.06247843, -0.03747145, -0.01248789,\n",
       "          0.01248789,  0.03747145,  0.06247843,  0.08752455,  0.1126257 ,\n",
       "          0.13779803,  0.16305799,  0.18842244,  0.21390872,  0.23953472,\n",
       "          0.26531902,  0.29128096,  0.31744076,  0.34381966,  0.37044003,\n",
       "          0.39732558,  0.42450149,  0.45199463,  0.47983378,  0.50804994,\n",
       "          0.53667655,  0.56574992,  0.59530962,  0.62539893,  0.65606548,\n",
       "          0.68736185,  0.71934648,  0.75208458,  0.78564937,  0.82012357,\n",
       "          0.85560121,  0.89218993,  0.93001393,  0.96921765,  1.00997067,\n",
       "          1.05247413,  1.09696931,  1.14374949,  1.19317644,  1.24570419,\n",
       "          1.30191411,  1.36256869,  1.42869743,  1.50174123,  1.58381122,\n",
       "          1.67819304,  1.79044653,  1.93122778,  2.12570747,  2.46203784]),\n",
       "  array([-3.05074818, -2.78092906, -2.1442111 , -2.08207418, -2.03183068,\n",
       "         -1.85580745, -1.72843248, -1.60199784, -1.58064725, -1.58057674,\n",
       "         -1.45466737, -1.45272674, -1.38753956, -1.32703591, -1.18567162,\n",
       "         -1.13687677, -1.13661058, -1.02311146, -1.00892957, -0.98804708,\n",
       "         -0.89814368, -0.87622261, -0.83164386, -0.81188771, -0.71862096,\n",
       "         -0.7099678 , -0.68771203, -0.60140363, -0.58520979, -0.57291343,\n",
       "         -0.50689404, -0.41816873, -0.3919264 , -0.39075786, -0.37686584,\n",
       "         -0.3042748 , -0.18794171, -0.18598699, -0.13807412, -0.08394924,\n",
       "         -0.05850134, -0.05687365, -0.04248737, -0.0184381 , -0.00690788,\n",
       "          0.03184505,  0.06680059,  0.07574525,  0.07665177,  0.14522822,\n",
       "          0.16555078,  0.16819511,  0.17284962,  0.21197162,  0.22062696,\n",
       "          0.25871   ,  0.31109973,  0.32394066,  0.36962286,  0.37344568,\n",
       "          0.37825132,  0.39142955,  0.39814693,  0.42000957,  0.43081009,\n",
       "          0.45477487,  0.45797346,  0.52765406,  0.53711368,  0.54753531,\n",
       "          0.59603428,  0.61223526,  0.65544782,  0.66613362,  0.67465105,\n",
       "          0.68793548,  0.69443998,  0.71550957,  0.746289  ,  0.80280132,\n",
       "          0.83715116,  0.85732853,  0.89153106,  0.90766425,  0.93562691,\n",
       "          0.9971698 ,  1.00283819,  1.01184326,  1.11978872,  1.14499298,\n",
       "          1.15085407,  1.22676741,  1.30465102,  1.39772254,  1.41638031,\n",
       "          1.45057267,  1.58061122,  2.01647454,  2.89726463,  2.97645694])),\n",
       " (1.0920991847924144, -0.015090948111902888, 0.9891366805853252))"
      ]
     },
     "execution_count": 8,
     "metadata": {},
     "output_type": "execute_result"
    },
    {
     "data": {
      "image/png": "[encoded data removed]",
      "text/plain": [
       "<Figure size 432x288 with 1 Axes>"
      ]
     },
     "metadata": {
      "needs_background": "light"
     },
     "output_type": "display_data"
    }
   ],
   "source": [
    "# QQ plot  Quantile-Quantile Plot(分位圖)：兩組數據各自排序比較分佈是否相同的方法\n",
    "\n",
    "\n",
    "probplot(X,sparams=(0,1), dist=\"norm\",fit = True , plot = plt)\n",
    "#array 1 理論值 ；array 2 樣本分位數(排序) \n",
    "#sparams:特定於分佈的參數 (有母數 樣本)\n",
    "#dist:沒打的話會預設 normal (理論值)\n",
    "#如果 fit為 True（默認），則將最小二乘回歸（最佳擬合）線擬合到樣本數據\n",
    "#如果呈現一直線，該數據就是常態分佈。"
   ]
  },
  {
   "cell_type": "code",
   "execution_count": 9,
   "id": "56787aa6",
   "metadata": {
    "scrolled": false
   },
   "outputs": [
    {
     "data": {
      "text/plain": [
       "((array([-2.46203784, -2.12570747, -1.93122778, -1.79044653, -1.67819304,\n",
       "         -1.58381122, -1.50174123, -1.42869743, -1.36256869, -1.30191411,\n",
       "         -1.24570419, -1.19317644, -1.14374949, -1.09696931, -1.05247413,\n",
       "         -1.00997067, -0.96921765, -0.93001393, -0.89218993, -0.85560121,\n",
       "         -0.82012357, -0.78564937, -0.75208458, -0.71934648, -0.68736185,\n",
       "         -0.65606548, -0.62539893, -0.59530962, -0.56574992, -0.53667655,\n",
       "         -0.50804994, -0.47983378, -0.45199463, -0.42450149, -0.39732558,\n",
       "         -0.37044003, -0.34381966, -0.31744076, -0.29128096, -0.26531902,\n",
       "         -0.23953472, -0.21390872, -0.18842244, -0.16305799, -0.13779803,\n",
       "         -0.1126257 , -0.08752455, -0.06247843, -0.03747145, -0.01248789,\n",
       "          0.01248789,  0.03747145,  0.06247843,  0.08752455,  0.1126257 ,\n",
       "          0.13779803,  0.16305799,  0.18842244,  0.21390872,  0.23953472,\n",
       "          0.26531902,  0.29128096,  0.31744076,  0.34381966,  0.37044003,\n",
       "          0.39732558,  0.42450149,  0.45199463,  0.47983378,  0.50804994,\n",
       "          0.53667655,  0.56574992,  0.59530962,  0.62539893,  0.65606548,\n",
       "          0.68736185,  0.71934648,  0.75208458,  0.78564937,  0.82012357,\n",
       "          0.85560121,  0.89218993,  0.93001393,  0.96921765,  1.00997067,\n",
       "          1.05247413,  1.09696931,  1.14374949,  1.19317644,  1.24570419,\n",
       "          1.30191411,  1.36256869,  1.42869743,  1.50174123,  1.58381122,\n",
       "          1.67819304,  1.79044653,  1.93122778,  2.12570747,  2.46203784]),\n",
       "  array([-3.05074818, -2.78092906, -2.1442111 , -2.08207418, -2.03183068,\n",
       "         -1.85580745, -1.72843248, -1.60199784, -1.58064725, -1.58057674,\n",
       "         -1.45466737, -1.45272674, -1.38753956, -1.32703591, -1.18567162,\n",
       "         -1.13687677, -1.13661058, -1.02311146, -1.00892957, -0.98804708,\n",
       "         -0.89814368, -0.87622261, -0.83164386, -0.81188771, -0.71862096,\n",
       "         -0.7099678 , -0.68771203, -0.60140363, -0.58520979, -0.57291343,\n",
       "         -0.50689404, -0.41816873, -0.3919264 , -0.39075786, -0.37686584,\n",
       "         -0.3042748 , -0.18794171, -0.18598699, -0.13807412, -0.08394924,\n",
       "         -0.05850134, -0.05687365, -0.04248737, -0.0184381 , -0.00690788,\n",
       "          0.03184505,  0.06680059,  0.07574525,  0.07665177,  0.14522822,\n",
       "          0.16555078,  0.16819511,  0.17284962,  0.21197162,  0.22062696,\n",
       "          0.25871   ,  0.31109973,  0.32394066,  0.36962286,  0.37344568,\n",
       "          0.37825132,  0.39142955,  0.39814693,  0.42000957,  0.43081009,\n",
       "          0.45477487,  0.45797346,  0.52765406,  0.53711368,  0.54753531,\n",
       "          0.59603428,  0.61223526,  0.65544782,  0.66613362,  0.67465105,\n",
       "          0.68793548,  0.69443998,  0.71550957,  0.746289  ,  0.80280132,\n",
       "          0.83715116,  0.85732853,  0.89153106,  0.90766425,  0.93562691,\n",
       "          0.9971698 ,  1.00283819,  1.01184326,  1.11978872,  1.14499298,\n",
       "          1.15085407,  1.22676741,  1.30465102,  1.39772254,  1.41638031,\n",
       "          1.45057267,  1.58061122,  2.01647454,  2.89726463,  2.97645694])),\n",
       " (1.0920991847924144, -0.015090948111902888, 0.9891366805853252))"
      ]
     },
     "execution_count": 9,
     "metadata": {},
     "output_type": "execute_result"
    },
    {
     "data": {
      "image/png": "[encoded data removed]",
      "text/plain": [
       "<Figure size 432x288 with 1 Axes>"
      ]
     },
     "metadata": {
      "needs_background": "light"
     },
     "output_type": "display_data"
    }
   ],
   "source": [
    "density = gaussian_kde(X)   \n",
    "xs = np.linspace(-10,10,200)   \n",
    "plt.plot(xs,density(xs))  \n",
    "\n",
    "probplot(X,sparams=(0,1), dist=\"norm\",plot=plt)"
   ]
  },
  {
   "cell_type": "code",
   "execution_count": null,
   "id": "c1f73da2",
   "metadata": {},
   "outputs": [],
   "source": []
  },
  {
   "cell_type": "code",
   "execution_count": 6,
   "id": "d9d66242",
   "metadata": {},
   "outputs": [
    {
     "name": "stdout",
     "output_type": "stream",
     "text": [
      "721.49609375 \n",
      " 769.5958333333333\n"
     ]
    }
   ],
   "source": [
    "e = np.array([1,2,5,7,4,8,65,25,48,95,20,21,54,2,3,15])\n",
    "\n",
    "print(np.var(e),'\\n',np.var(e)*len(e)/(len(e)-1))"
   ]
  }
 ],
 "metadata": {
  "kernelspec": {
   "display_name": "Python 3",
   "language": "python",
   "name": "python3"
  },
  "language_info": {
   "codemirror_mode": {
    "name": "ipython",
    "version": 3
   },
   "file_extension": ".py",
   "mimetype": "text/x-python",
   "name": "python",
   "nbconvert_exporter": "python",
   "pygments_lexer": "ipython3",
   "version": "3.8.8"
  }
 },
 "nbformat": 4,
 "nbformat_minor": 5
}
