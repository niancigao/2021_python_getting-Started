{
 "cells": [
  {
   "cell_type": "markdown",
   "id": "9dcf51a8",
   "metadata": {},
   "source": [
    "def 名稱 (  ) :\n",
    "    \n",
    "     函式中的參數與 return 可有可無"
   ]
  },
  {
   "cell_type": "code",
   "execution_count": 2,
   "id": "b029adc0",
   "metadata": {},
   "outputs": [
    {
     "name": "stdout",
     "output_type": "stream",
     "text": [
      "今天日期:2021/11/22\n",
      "現在時間:9:29:50\n"
     ]
    }
   ],
   "source": [
    "import datetime\n",
    "\n",
    "def printDate():\n",
    "    dt = datetime.datetime.now()\n",
    "    print(f'今天日期:{dt.year}/{dt.month}/{dt.day}')\n",
    "    print(f'現在時間:{dt.hour}:{dt.minute}:{dt.second}')\n",
    "    \n",
    "printDate()"
   ]
  },
  {
   "cell_type": "code",
   "execution_count": 3,
   "id": "1e269e3d",
   "metadata": {},
   "outputs": [
    {
     "name": "stdout",
     "output_type": "stream",
     "text": [
      "好想睡，身心俱疲\n"
     ]
    }
   ],
   "source": [
    "def myfunction():\n",
    "    print('好想睡，身心俱疲')\n",
    "    \n",
    "myfunction()"
   ]
  },
  {
   "cell_type": "code",
   "execution_count": 7,
   "id": "b3eadd0a",
   "metadata": {},
   "outputs": [
    {
     "name": "stdout",
     "output_type": "stream",
     "text": [
      "民國 90 年\n"
     ]
    }
   ],
   "source": [
    "def rocyear(year):\n",
    "    print(f'民國 {year-1911} 年')\n",
    "    \n",
    "rocyear(2001)"
   ]
  },
  {
   "cell_type": "code",
   "execution_count": 8,
   "id": "68a9e709",
   "metadata": {},
   "outputs": [
    {
     "name": "stdout",
     "output_type": "stream",
     "text": [
      "西元 2001 年\n"
     ]
    }
   ],
   "source": [
    "def rocyear(year):\n",
    "    print(f'西元 {year+1911} 年')\n",
    "    \n",
    "rocyear(90)"
   ]
  },
  {
   "cell_type": "code",
   "execution_count": 10,
   "id": "1e580145",
   "metadata": {},
   "outputs": [
    {
     "name": "stdout",
     "output_type": "stream",
     "text": [
      "民國 109 年\n",
      "民國 110 年\n"
     ]
    }
   ],
   "source": [
    "def rocyear(year=2020):              #預設值\n",
    "    print(f'民國 {year-1911} 年')\n",
    "\n",
    "rocyear() \n",
    "rocyear(2021)                        #可被覆蓋"
   ]
  },
  {
   "cell_type": "code",
   "execution_count": 11,
   "id": "b9430d8c",
   "metadata": {},
   "outputs": [
    {
     "name": "stdout",
     "output_type": "stream",
     "text": [
      "你好jojo,歡迎來到民國109年!\n",
      "你好jojo,歡迎來到民國110年!\n"
     ]
    }
   ],
   "source": [
    "def greetingyear(name,year=2020):                    #沒有預設值的參數一定要放在前面\n",
    "    print(f'你好{name},歡迎來到民國{year-1911}年!')\n",
    "    \n",
    "greetingyear('jojo')                                 #字元還是要用 \" \"\n",
    "greetingyear('jojo',2021)"
   ]
  },
  {
   "cell_type": "code",
   "execution_count": 12,
   "id": "7ea5db59",
   "metadata": {},
   "outputs": [
    {
     "ename": "SyntaxError",
     "evalue": "non-default argument follows default argument (<ipython-input-12-c9ae0f230c32>, line 1)",
     "output_type": "error",
     "traceback": [
      "\u001b[1;36m  File \u001b[1;32m\"<ipython-input-12-c9ae0f230c32>\"\u001b[1;36m, line \u001b[1;32m1\u001b[0m\n\u001b[1;33m    def greetingyear(year=2020,name):\u001b[0m\n\u001b[1;37m                     ^\u001b[0m\n\u001b[1;31mSyntaxError\u001b[0m\u001b[1;31m:\u001b[0m non-default argument follows default argument\n"
     ]
    }
   ],
   "source": [
    "def greetingyear(year=2020,name):                    \n",
    "    print(f'你好{name},歡迎來到民國{year-1911}年!')\n",
    "    \n",
    "greetingyear('jojo')                                 \n",
    "greetingyear(year,'jojo')"
   ]
  },
  {
   "cell_type": "code",
   "execution_count": 16,
   "id": "bf31e34a",
   "metadata": {},
   "outputs": [
    {
     "name": "stdout",
     "output_type": "stream",
     "text": [
      "你好jojo,歡迎來到民國109年!\n",
      "你好2021,歡迎來到民國110年!\n"
     ]
    },
    {
     "ename": "TypeError",
     "evalue": "unsupported operand type(s) for -: 'str' and 'int'",
     "output_type": "error",
     "traceback": [
      "\u001b[1;31m---------------------------------------------------------------------------\u001b[0m",
      "\u001b[1;31mTypeError\u001b[0m                                 Traceback (most recent call last)",
      "\u001b[1;32m<ipython-input-16-8373f4a38218>\u001b[0m in \u001b[0;36m<module>\u001b[1;34m\u001b[0m\n\u001b[0;32m      4\u001b[0m \u001b[0mgreetingyear\u001b[0m\u001b[1;33m(\u001b[0m\u001b[1;34m'jojo'\u001b[0m\u001b[1;33m)\u001b[0m\u001b[1;33m\u001b[0m\u001b[1;33m\u001b[0m\u001b[0m\n\u001b[0;32m      5\u001b[0m \u001b[0mgreetingyear\u001b[0m\u001b[1;33m(\u001b[0m\u001b[1;36m2021\u001b[0m\u001b[1;33m,\u001b[0m\u001b[1;36m2021\u001b[0m\u001b[1;33m)\u001b[0m\u001b[1;33m\u001b[0m\u001b[1;33m\u001b[0m\u001b[0m\n\u001b[1;32m----> 6\u001b[1;33m \u001b[0mgreetingyear\u001b[0m\u001b[1;33m(\u001b[0m\u001b[1;36m2020\u001b[0m\u001b[1;33m,\u001b[0m\u001b[1;34m'jojo'\u001b[0m\u001b[1;33m)\u001b[0m\u001b[1;33m\u001b[0m\u001b[1;33m\u001b[0m\u001b[0m\n\u001b[0m",
      "\u001b[1;32m<ipython-input-16-8373f4a38218>\u001b[0m in \u001b[0;36mgreetingyear\u001b[1;34m(name, year)\u001b[0m\n\u001b[0;32m      1\u001b[0m \u001b[1;32mdef\u001b[0m \u001b[0mgreetingyear\u001b[0m\u001b[1;33m(\u001b[0m\u001b[0mname\u001b[0m\u001b[1;33m,\u001b[0m\u001b[0myear\u001b[0m\u001b[1;33m=\u001b[0m\u001b[1;36m2020\u001b[0m\u001b[1;33m)\u001b[0m\u001b[1;33m:\u001b[0m\u001b[1;33m\u001b[0m\u001b[1;33m\u001b[0m\u001b[0m\n\u001b[1;32m----> 2\u001b[1;33m     \u001b[0mprint\u001b[0m\u001b[1;33m(\u001b[0m\u001b[1;34mf'你好{name},歡迎來到民國{year-1911}年!'\u001b[0m\u001b[1;33m)\u001b[0m\u001b[1;33m\u001b[0m\u001b[1;33m\u001b[0m\u001b[0m\n\u001b[0m\u001b[0;32m      3\u001b[0m \u001b[1;33m\u001b[0m\u001b[0m\n\u001b[0;32m      4\u001b[0m \u001b[0mgreetingyear\u001b[0m\u001b[1;33m(\u001b[0m\u001b[1;34m'jojo'\u001b[0m\u001b[1;33m)\u001b[0m\u001b[1;33m\u001b[0m\u001b[1;33m\u001b[0m\u001b[0m\n\u001b[0;32m      5\u001b[0m \u001b[0mgreetingyear\u001b[0m\u001b[1;33m(\u001b[0m\u001b[1;36m2021\u001b[0m\u001b[1;33m,\u001b[0m\u001b[1;36m2021\u001b[0m\u001b[1;33m)\u001b[0m\u001b[1;33m\u001b[0m\u001b[1;33m\u001b[0m\u001b[0m\n",
      "\u001b[1;31mTypeError\u001b[0m: unsupported operand type(s) for -: 'str' and 'int'"
     ]
    }
   ],
   "source": [
    "def greetingyear(name,year=2020):                    \n",
    "    print(f'你好{name},歡迎來到民國{year-1911}年!')\n",
    "    \n",
    "greetingyear('jojo')                               \n",
    "greetingyear(2021,2021)\n",
    "greetingyear(2020,'jojo')"
   ]
  },
  {
   "cell_type": "code",
   "execution_count": 2,
   "id": "b2299f92",
   "metadata": {},
   "outputs": [
    {
     "name": "stdout",
     "output_type": "stream",
     "text": [
      "你好jojo,歡迎來到民國109年!\n",
      "你好nini,歡迎來到民國110年!\n",
      "你好nini,歡迎來到民國110年!\n"
     ]
    }
   ],
   "source": [
    "def greet(name='jojo',year=2020):\n",
    "    print(f'你好{name},歡迎來到民國{year-1911}年!')\n",
    "    \n",
    "greet()\n",
    "greet('nini',2021)\n",
    "greet(year=2021,name='nini')            #如果都預設了順序就都沒差了"
   ]
  },
  {
   "cell_type": "code",
   "execution_count": 3,
   "id": "8b46ad0a",
   "metadata": {},
   "outputs": [
    {
     "name": "stdout",
     "output_type": "stream",
     "text": [
      "9\n"
     ]
    }
   ],
   "source": [
    "def rem(x,y):\n",
    "    return x%y\n",
    "\n",
    "r=rem(100,13)\n",
    "print(r)"
   ]
  },
  {
   "cell_type": "code",
   "execution_count": 5,
   "id": "be784cd1",
   "metadata": {},
   "outputs": [
    {
     "name": "stdout",
     "output_type": "stream",
     "text": [
      "THIS.IS.SPARTA!!!\n"
     ]
    }
   ],
   "source": [
    "def yell(text):\n",
    "    return text.upper().replace(' ','.') + '!!!'\n",
    "\n",
    "print(yell('this is sparta'))"
   ]
  },
  {
   "cell_type": "code",
   "execution_count": 7,
   "id": "2741690d",
   "metadata": {},
   "outputs": [
    {
     "name": "stdout",
     "output_type": "stream",
     "text": [
      "商數: 3 餘數: 2\n"
     ]
    }
   ],
   "source": [
    "def divide(x,y):\n",
    "    q = x//y\n",
    "    r = x%y\n",
    "    return q,r\n",
    "\n",
    "qn, rn = divide(20,6)\n",
    "print('商數:',qn,'餘數:',rn)"
   ]
  },
  {
   "cell_type": "code",
   "execution_count": 29,
   "id": "d9c2b812",
   "metadata": {},
   "outputs": [
    {
     "name": "stdout",
     "output_type": "stream",
     "text": [
      "0\n"
     ]
    }
   ],
   "source": [
    "def divide(a,b):\n",
    "    if b==0:\n",
    "        return 0\n",
    "    else:\n",
    "        return a/b\n",
    "    \n",
    "print(divide(10,0))"
   ]
  },
  {
   "cell_type": "code",
   "execution_count": 33,
   "id": "31f957b8",
   "metadata": {},
   "outputs": [
    {
     "name": "stdout",
     "output_type": "stream",
     "text": [
      "甜度: 0.5\n",
      "冰度: 0.3\n"
     ]
    }
   ],
   "source": [
    "sugar=0.5\n",
    "ice=0.3\n",
    "\n",
    "def drinkinfo():\n",
    "    print('甜度:',sugar)\n",
    "    print('冰度:',ice)\n",
    "    \n",
    "drinkinfo()"
   ]
  },
  {
   "cell_type": "code",
   "execution_count": 34,
   "id": "eb6aed09",
   "metadata": {},
   "outputs": [
    {
     "name": "stdout",
     "output_type": "stream",
     "text": [
      "甜度: 0.3\n",
      "冰度: 0.3\n",
      "甜度: 0.5\n",
      "冰度: 0.3\n"
     ]
    }
   ],
   "source": [
    "def changesugar():\n",
    "    sugar=0.3\n",
    "    print('甜度:',sugar)     #區域變數 & 全域變數\n",
    "    print('冰度:',ice)\n",
    "\n",
    "changesugar()\n",
    "drinkinfo()"
   ]
  },
  {
   "cell_type": "code",
   "execution_count": 35,
   "id": "3c05eaa0",
   "metadata": {},
   "outputs": [
    {
     "name": "stdout",
     "output_type": "stream",
     "text": [
      "印出x: 10\n"
     ]
    },
    {
     "ename": "NameError",
     "evalue": "name 'x' is not defined",
     "output_type": "error",
     "traceback": [
      "\u001b[1;31m---------------------------------------------------------------------------\u001b[0m",
      "\u001b[1;31mNameError\u001b[0m                                 Traceback (most recent call last)",
      "\u001b[1;32m<ipython-input-35-40b1e8ac9422>\u001b[0m in \u001b[0;36m<module>\u001b[1;34m\u001b[0m\n\u001b[0;32m      4\u001b[0m \u001b[1;33m\u001b[0m\u001b[0m\n\u001b[0;32m      5\u001b[0m \u001b[0mtest\u001b[0m\u001b[1;33m(\u001b[0m\u001b[1;33m)\u001b[0m\u001b[1;33m\u001b[0m\u001b[1;33m\u001b[0m\u001b[0m\n\u001b[1;32m----> 6\u001b[1;33m \u001b[0mprint\u001b[0m\u001b[1;33m(\u001b[0m\u001b[1;34m\"印出x:\"\u001b[0m\u001b[1;33m,\u001b[0m\u001b[0mx\u001b[0m\u001b[1;33m)\u001b[0m\u001b[1;33m\u001b[0m\u001b[1;33m\u001b[0m\u001b[0m\n\u001b[0m",
      "\u001b[1;31mNameError\u001b[0m: name 'x' is not defined"
     ]
    }
   ],
   "source": [
    "def test():\n",
    "    x=10\n",
    "    print(\"印出x:\",x)     #區域內\n",
    "    \n",
    "test()\n",
    "print(\"印出x:\",x)         #區域外看不到"
   ]
  },
  {
   "cell_type": "code",
   "execution_count": 36,
   "id": "4ca6b776",
   "metadata": {},
   "outputs": [
    {
     "name": "stdout",
     "output_type": "stream",
     "text": [
      "印出x: 10\n",
      "印出x: 5\n"
     ]
    }
   ],
   "source": [
    "x=5                       #視為兩個不同變數\n",
    "\n",
    "def test():\n",
    "    x=10\n",
    "    print(\"印出x:\",x)     #區域內，如果有就用自己的\n",
    "    \n",
    "test()\n",
    "print(\"印出x:\",x)         #區域外"
   ]
  },
  {
   "cell_type": "code",
   "execution_count": 37,
   "id": "534f0d37",
   "metadata": {},
   "outputs": [
    {
     "name": "stdout",
     "output_type": "stream",
     "text": [
      "印出x: 5\n",
      "印出x: 5\n"
     ]
    }
   ],
   "source": [
    "x=5                       \n",
    "\n",
    "def test():\n",
    "    print(\"印出x:\",x)     #直接取外面的 x值\n",
    "    \n",
    "test()\n",
    "print(\"印出x:\",x)  "
   ]
  },
  {
   "cell_type": "code",
   "execution_count": 38,
   "id": "25364b7e",
   "metadata": {},
   "outputs": [
    {
     "name": "stdout",
     "output_type": "stream",
     "text": [
      "印出x: 10\n",
      "印出x: 10\n"
     ]
    }
   ],
   "source": [
    "x=5\n",
    "\n",
    "def test():\n",
    "    global x             # global 將函數裡的變數變 全域變數 !! (往下所有!!)\n",
    "    x=10\n",
    "    print('印出x:',x)\n",
    "    \n",
    "test()\n",
    "print('印出x:',x)"
   ]
  },
  {
   "cell_type": "code",
   "execution_count": 39,
   "id": "bcfb9d61",
   "metadata": {},
   "outputs": [
    {
     "name": "stdout",
     "output_type": "stream",
     "text": [
      "甜度: 0.1\n",
      "冰度: 0.3\n",
      "甜度: 0.1\n",
      "冰度: 0.3\n"
     ]
    }
   ],
   "source": [
    "def changesugar():\n",
    "    \n",
    "    global sugar             # 跟 [34] 比較\n",
    "    sugar=0.1\n",
    "    \n",
    "    print('甜度:',sugar)     #區域變數 & 全域變數\n",
    "    print('冰度:',ice)\n",
    "\n",
    "changesugar()\n",
    "drinkinfo()                  #變數名最好還是不要重複"
   ]
  },
  {
   "cell_type": "code",
   "execution_count": 3,
   "id": "9a7fa89a",
   "metadata": {},
   "outputs": [
    {
     "name": "stdout",
     "output_type": "stream",
     "text": [
      "17\n",
      "17\n"
     ]
    },
    {
     "data": {
      "text/plain": [
       "17"
      ]
     },
     "execution_count": 3,
     "metadata": {},
     "output_type": "execute_result"
    }
   ],
   "source": [
    "x=8\n",
    "y=9\n",
    "\n",
    "def add(x,y):\n",
    "    return (x+y)             #回傳  要加 print return才會印出\n",
    "\n",
    "print(add(x,y))\n",
    "add(x,y)\n",
    "print(add(x,y))\n",
    "add(x,y)"
   ]
  },
  {
   "cell_type": "code",
   "execution_count": null,
   "id": "ee6e10ae",
   "metadata": {},
   "outputs": [],
   "source": []
  }
 ],
 "metadata": {
  "kernelspec": {
   "display_name": "Python 3",
   "language": "python",
   "name": "python3"
  },
  "language_info": {
   "codemirror_mode": {
    "name": "ipython",
    "version": 3
   },
   "file_extension": ".py",
   "mimetype": "text/x-python",
   "name": "python",
   "nbconvert_exporter": "python",
   "pygments_lexer": "ipython3",
   "version": "3.8.8"
  }
 },
 "nbformat": 4,
 "nbformat_minor": 5
}
