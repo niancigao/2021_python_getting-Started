{
 "cells": [
  {
   "cell_type": "code",
   "execution_count": 2,
   "id": "ace20673",
   "metadata": {},
   "outputs": [
    {
     "data": {
      "text/plain": [
       "[0, 1, 2, 3, 4, 5, 6, 7, 8, 9]"
      ]
     },
     "execution_count": 2,
     "metadata": {},
     "output_type": "execute_result"
    }
   ],
   "source": [
    "list(range(0, 10))"
   ]
  },
  {
   "cell_type": "code",
   "execution_count": 2,
   "id": "e42b1e84",
   "metadata": {},
   "outputs": [
    {
     "name": "stdout",
     "output_type": "stream",
     "text": [
      "3600\n"
     ]
    }
   ],
   "source": [
    "exp1=1138\n",
    "exp2=101\n",
    "exp3=12\n",
    "exp4=300\n",
    "exp5=2049\n",
    "total_expense=exp1+exp2+exp3+exp4+exp5\n",
    "print(total_expense)"
   ]
  },
  {
   "cell_type": "code",
   "execution_count": 3,
   "id": "e3addb7a",
   "metadata": {},
   "outputs": [
    {
     "name": "stdout",
     "output_type": "stream",
     "text": [
      "3600\n"
     ]
    }
   ],
   "source": [
    "expense=[1138,101,12,300,2049]\n",
    "print(sum(expense))"
   ]
  },
  {
   "cell_type": "markdown",
   "id": "2a317894",
   "metadata": {},
   "source": [
    "[ ] 串列 逗號隔開"
   ]
  },
  {
   "cell_type": "code",
   "execution_count": 9,
   "id": "38868396",
   "metadata": {},
   "outputs": [
    {
     "name": "stdout",
     "output_type": "stream",
     "text": [
      "[10, 20, 30, 40, 50]\n"
     ]
    }
   ],
   "source": [
    "list=[10,20,30,40,50]\n",
    "print(list)"
   ]
  },
  {
   "cell_type": "code",
   "execution_count": 10,
   "id": "53ee8ee0",
   "metadata": {},
   "outputs": [],
   "source": [
    "list=[10,20,30,40,50]"
   ]
  },
  {
   "cell_type": "code",
   "execution_count": 11,
   "id": "30467873",
   "metadata": {},
   "outputs": [
    {
     "name": "stdout",
     "output_type": "stream",
     "text": [
      "1138\n",
      "2049\n"
     ]
    }
   ],
   "source": [
    "expense=[1138,101,12,300,2049]\n",
    "print(expense[0])\n",
    "print(expense[4])"
   ]
  },
  {
   "cell_type": "markdown",
   "id": "3a644ef8",
   "metadata": {},
   "source": [
    "index 索引  從0開始  最末元素索引: N-1 "
   ]
  },
  {
   "cell_type": "code",
   "execution_count": 15,
   "id": "94fe9a80",
   "metadata": {},
   "outputs": [
    {
     "name": "stdout",
     "output_type": "stream",
     "text": [
      "[1138, 101, '發票遺失', 300.0, 2049]\n"
     ]
    }
   ],
   "source": [
    "expense[2]='發票遺失'\n",
    "expense[3]=300.0\n",
    "print(expense)"
   ]
  },
  {
   "cell_type": "code",
   "execution_count": 16,
   "id": "7b68f3ec",
   "metadata": {},
   "outputs": [
    {
     "name": "stdout",
     "output_type": "stream",
     "text": [
      "2049\n",
      "300.0\n",
      "發票遺失\n",
      "1138\n"
     ]
    },
    {
     "ename": "IndexError",
     "evalue": "list index out of range",
     "output_type": "error",
     "traceback": [
      "\u001b[1;31m---------------------------------------------------------------------------\u001b[0m",
      "\u001b[1;31mIndexError\u001b[0m                                Traceback (most recent call last)",
      "\u001b[1;32m<ipython-input-16-4f748e07c5e3>\u001b[0m in \u001b[0;36m<module>\u001b[1;34m\u001b[0m\n\u001b[0;32m      3\u001b[0m \u001b[0mprint\u001b[0m\u001b[1;33m(\u001b[0m\u001b[0mexpense\u001b[0m\u001b[1;33m[\u001b[0m\u001b[1;33m-\u001b[0m\u001b[1;36m3\u001b[0m\u001b[1;33m]\u001b[0m\u001b[1;33m)\u001b[0m\u001b[1;33m\u001b[0m\u001b[1;33m\u001b[0m\u001b[0m\n\u001b[0;32m      4\u001b[0m \u001b[0mprint\u001b[0m\u001b[1;33m(\u001b[0m\u001b[0mexpense\u001b[0m\u001b[1;33m[\u001b[0m\u001b[1;33m-\u001b[0m\u001b[1;36m5\u001b[0m\u001b[1;33m]\u001b[0m\u001b[1;33m)\u001b[0m\u001b[1;33m\u001b[0m\u001b[1;33m\u001b[0m\u001b[0m\n\u001b[1;32m----> 5\u001b[1;33m \u001b[0mprint\u001b[0m\u001b[1;33m(\u001b[0m\u001b[0mexpense\u001b[0m\u001b[1;33m[\u001b[0m\u001b[1;36m5\u001b[0m\u001b[1;33m]\u001b[0m\u001b[1;33m)\u001b[0m\u001b[1;33m\u001b[0m\u001b[1;33m\u001b[0m\u001b[0m\n\u001b[0m",
      "\u001b[1;31mIndexError\u001b[0m: list index out of range"
     ]
    }
   ],
   "source": [
    "print(expense[-1])\n",
    "print(expense[-2])\n",
    "print(expense[-3])\n",
    "print(expense[-5])\n",
    "print(expense[5])"
   ]
  },
  {
   "cell_type": "markdown",
   "id": "4b87f4c7",
   "metadata": {},
   "source": [
    "python 將索引 -1 視為倒數第一個索引  (一個順向一個逆向)\n",
    "注意不是 -0 !!\n",
    "python 獨有"
   ]
  },
  {
   "cell_type": "markdown",
   "id": "d8247d78",
   "metadata": {},
   "source": [
    "串列 [起始索引 : 起始索引 + 擷取個數]"
   ]
  },
  {
   "cell_type": "code",
   "execution_count": 20,
   "id": "9ffe34b9",
   "metadata": {},
   "outputs": [
    {
     "name": "stdout",
     "output_type": "stream",
     "text": [
      "[1138, 101, 12]\n"
     ]
    }
   ],
   "source": [
    "expense=[1138,101,12,300,2049]\n",
    "print(expense[0:3])"
   ]
  },
  {
   "cell_type": "code",
   "execution_count": 21,
   "id": "6e7ac8ab",
   "metadata": {},
   "outputs": [
    {
     "name": "stdout",
     "output_type": "stream",
     "text": [
      "[12]\n"
     ]
    }
   ],
   "source": [
    "expense=[1138,101,12,300,2049]\n",
    "print(expense[2:3])"
   ]
  },
  {
   "cell_type": "code",
   "execution_count": 22,
   "id": "1fb88055",
   "metadata": {},
   "outputs": [
    {
     "name": "stdout",
     "output_type": "stream",
     "text": [
      "[]\n"
     ]
    }
   ],
   "source": [
    "expense=[1138,101,12,300,2049]\n",
    "print(expense[3:3])"
   ]
  },
  {
   "cell_type": "markdown",
   "id": "475f4a27",
   "metadata": {},
   "source": [
    "切片 (slicing)     好像\"有頭無尾!!\"   取索引到 (個數-1)"
   ]
  },
  {
   "cell_type": "code",
   "execution_count": 24,
   "id": "54df01e4",
   "metadata": {},
   "outputs": [
    {
     "name": "stdout",
     "output_type": "stream",
     "text": [
      "[12, 300]\n",
      "[12, 300]\n"
     ]
    }
   ],
   "source": [
    "expense=[1138,101,12,300,2049]\n",
    "print(expense[2:2+2])\n",
    "\n",
    "expense=[1138,101,12,300,2049]\n",
    "print(expense[2:4])"
   ]
  },
  {
   "cell_type": "code",
   "execution_count": 26,
   "id": "a743db96",
   "metadata": {},
   "outputs": [
    {
     "name": "stdout",
     "output_type": "stream",
     "text": [
      "[101, 12, 300, 2049]\n",
      "[1138, 101, 12]\n",
      "[1138, 101, 12, 300, 2049]\n",
      "[1138, 101, 12, 300, 2049]\n",
      "[1138, 12, 2049]\n",
      "[2049, 300, 12, 101, 1138]\n",
      "[2049, 12, 1138]\n"
     ]
    }
   ],
   "source": [
    "print(expense[1:])\n",
    "print(expense[:3])\n",
    "print(expense[:])\n",
    "print(expense[::])\n",
    "print(expense[::2])\n",
    "print(expense[::-1])\n",
    "print(expense[::-2])"
   ]
  },
  {
   "cell_type": "markdown",
   "id": "9565185a",
   "metadata": {},
   "source": [
    "串列 [起始索引 : 起始索引 + 擷取個數 : 索引間隔]"
   ]
  },
  {
   "cell_type": "markdown",
   "id": "512ca634",
   "metadata": {},
   "source": [
    "append() 新增元素  (串列專有函式)\n",
    "remove() 刪除\n",
    "clear() 清空\n",
    "sorted() 、 sort() 排序"
   ]
  },
  {
   "cell_type": "code",
   "execution_count": 93,
   "id": "cd124888",
   "metadata": {},
   "outputs": [
    {
     "name": "stdout",
     "output_type": "stream",
     "text": [
      "[1138, 101, 12, 300, 2049, 1, 5]\n",
      "[1138, 101, 12, 300, 2049, 1, 5, 408]\n"
     ]
    }
   ],
   "source": [
    "print(expense)\n",
    "expense.append(408)\n",
    "print(expense)"
   ]
  },
  {
   "cell_type": "code",
   "execution_count": 94,
   "id": "db5034f0",
   "metadata": {},
   "outputs": [
    {
     "name": "stdout",
     "output_type": "stream",
     "text": [
      "[1138, 101, 12, 300, 2049, 1, 5]\n",
      "[1138, 101, 12, 300, 2049, 1, 5, 9, 6]\n"
     ]
    }
   ],
   "source": [
    "expense=[1138,101,12,300,2049]\n",
    "expense.extend([1,5])\n",
    "print(expense)\n",
    "\n",
    "expense[len(expense):]=[9,6]\n",
    "print(expense)"
   ]
  },
  {
   "cell_type": "code",
   "execution_count": 43,
   "id": "ce23fb20",
   "metadata": {},
   "outputs": [
    {
     "name": "stdout",
     "output_type": "stream",
     "text": [
      "[1138, 101, 12, 2049]\n"
     ]
    }
   ],
   "source": [
    "expense.remove(300)\n",
    "print(expense)"
   ]
  },
  {
   "cell_type": "code",
   "execution_count": 83,
   "id": "bb2ec8a7",
   "metadata": {},
   "outputs": [
    {
     "name": "stdout",
     "output_type": "stream",
     "text": [
      "12\n",
      "2049\n"
     ]
    }
   ],
   "source": [
    "expense=[1138,101,12,300,2049]\n",
    "print(min(expense))\n",
    "print(max(expense))"
   ]
  },
  {
   "cell_type": "code",
   "execution_count": 45,
   "id": "73d812ab",
   "metadata": {},
   "outputs": [
    {
     "name": "stdout",
     "output_type": "stream",
     "text": [
      "[]\n"
     ]
    }
   ],
   "source": [
    "expense.clear()\n",
    "print(expense)"
   ]
  },
  {
   "cell_type": "code",
   "execution_count": 46,
   "id": "f0913b8f",
   "metadata": {},
   "outputs": [
    {
     "name": "stdout",
     "output_type": "stream",
     "text": [
      "3600\n"
     ]
    }
   ],
   "source": [
    "expense=[1138,101,12,300,2049]\n",
    "print(sum(expense))"
   ]
  },
  {
   "cell_type": "code",
   "execution_count": 47,
   "id": "bbd432d0",
   "metadata": {},
   "outputs": [
    {
     "name": "stdout",
     "output_type": "stream",
     "text": [
      "5\n"
     ]
    }
   ],
   "source": [
    "print(len(expense))"
   ]
  },
  {
   "cell_type": "code",
   "execution_count": 49,
   "id": "44977d4f",
   "metadata": {},
   "outputs": [
    {
     "name": "stdout",
     "output_type": "stream",
     "text": [
      "720.0\n"
     ]
    }
   ],
   "source": [
    "print(sum(expense)/len(expense))"
   ]
  },
  {
   "cell_type": "code",
   "execution_count": 63,
   "id": "072448a6",
   "metadata": {},
   "outputs": [
    {
     "name": "stdout",
     "output_type": "stream",
     "text": [
      "720\n"
     ]
    }
   ],
   "source": [
    "import statistics\n",
    "avg=statistics.mean(expense)\n",
    "print(avg)"
   ]
  },
  {
   "cell_type": "code",
   "execution_count": 58,
   "id": "2bccf8a6",
   "metadata": {},
   "outputs": [
    {
     "name": "stdout",
     "output_type": "stream",
     "text": [
      "[12, 101, 300, 1138, 2049] [1138, 101, 12, 300, 2049]\n"
     ]
    }
   ],
   "source": [
    "s=sorted(expense)\n",
    "print(s,expense)"
   ]
  },
  {
   "cell_type": "code",
   "execution_count": 60,
   "id": "7a7dbcc2",
   "metadata": {},
   "outputs": [
    {
     "name": "stdout",
     "output_type": "stream",
     "text": [
      "[12, 101, 300, 1138, 2049]\n"
     ]
    }
   ],
   "source": [
    "expense.sort()\n",
    "print(expense)"
   ]
  },
  {
   "cell_type": "code",
   "execution_count": 61,
   "id": "d1fe437c",
   "metadata": {},
   "outputs": [
    {
     "name": "stdout",
     "output_type": "stream",
     "text": [
      "None\n"
     ]
    }
   ],
   "source": [
    "print(expense.sort())"
   ]
  },
  {
   "cell_type": "code",
   "execution_count": 69,
   "id": "e0800acc",
   "metadata": {},
   "outputs": [
    {
     "name": "stdout",
     "output_type": "stream",
     "text": [
      "['蟹堡王', 1959, '蟹老闆', 2, '海綿寶寶', '章魚哥']\n"
     ]
    }
   ],
   "source": [
    "restaurant=['蟹堡王',1959,'蟹老闆',2,'海綿寶寶','章魚哥']\n",
    "print(restaurant)"
   ]
  },
  {
   "cell_type": "code",
   "execution_count": 73,
   "id": "5f1d3163",
   "metadata": {},
   "outputs": [
    {
     "name": "stdout",
     "output_type": "stream",
     "text": [
      "['蟹堡王', 1959, '蟹老闆', 2, ['海綿寶寶', '章魚哥']]\n"
     ]
    }
   ],
   "source": [
    "restaurant=['蟹堡王',1959,'蟹老闆',2,['海綿寶寶','章魚哥']]\n",
    "print(restaurant)"
   ]
  },
  {
   "cell_type": "code",
   "execution_count": 3,
   "id": "938f8015",
   "metadata": {},
   "outputs": [
    {
     "name": "stdout",
     "output_type": "stream",
     "text": [
      "{'餐廳名稱': '蟹堡王', '年分': 1959, '業主': '蟹老闆'}\n",
      "<class 'dict'>\n"
     ]
    }
   ],
   "source": [
    "restaurant ={\n",
    "    '餐廳名稱':'蟹堡王',\n",
    "    '年分':1959,\n",
    "    '業主':'蟹老闆'\n",
    "}\n",
    "print(restaurant)\n",
    "print(type(restaurant))"
   ]
  },
  {
   "cell_type": "markdown",
   "id": "a633b917",
   "metadata": {},
   "source": [
    "dictionary 字典  ==> dict  = { 鍵(key) : 值(value) }"
   ]
  },
  {
   "cell_type": "code",
   "execution_count": 76,
   "id": "6963ae1d",
   "metadata": {},
   "outputs": [
    {
     "name": "stdout",
     "output_type": "stream",
     "text": [
      "{1: 'A', 2.0: 'B', 'C': 3}\n"
     ]
    }
   ],
   "source": [
    "d={1:'A',2.0:'B','C':3}\n",
    "print(d)"
   ]
  },
  {
   "cell_type": "code",
   "execution_count": 78,
   "id": "899f389b",
   "metadata": {},
   "outputs": [
    {
     "name": "stdout",
     "output_type": "stream",
     "text": [
      "{1: 3}\n"
     ]
    }
   ],
   "source": [
    "d={1:'A',1:'B',1:3}\n",
    "print(d)"
   ]
  },
  {
   "cell_type": "code",
   "execution_count": 80,
   "id": "5b88136b",
   "metadata": {},
   "outputs": [
    {
     "name": "stdout",
     "output_type": "stream",
     "text": [
      "{1: 'A', 2.0: 'B', 'C': 3}\n"
     ]
    }
   ],
   "source": [
    "dict ={1:'A',2.0:'B','C':3}\n",
    "print(dict)"
   ]
  },
  {
   "cell_type": "markdown",
   "id": "3ad54e25",
   "metadata": {},
   "source": [
    "值 = 字典名稱 [鍵]    (查詢特定 鍵)"
   ]
  },
  {
   "cell_type": "code",
   "execution_count": 95,
   "id": "b575b245",
   "metadata": {},
   "outputs": [
    {
     "name": "stdout",
     "output_type": "stream",
     "text": [
      "1959\n"
     ]
    },
    {
     "ename": "KeyError",
     "evalue": "'創業年分'",
     "output_type": "error",
     "traceback": [
      "\u001b[1;31m---------------------------------------------------------------------------\u001b[0m",
      "\u001b[1;31mKeyError\u001b[0m                                  Traceback (most recent call last)",
      "\u001b[1;32m<ipython-input-95-0ae7b1a986c1>\u001b[0m in \u001b[0;36m<module>\u001b[1;34m\u001b[0m\n\u001b[0;32m      1\u001b[0m \u001b[0mprint\u001b[0m\u001b[1;33m(\u001b[0m\u001b[0mrestaurant\u001b[0m\u001b[1;33m[\u001b[0m\u001b[1;34m'年分'\u001b[0m\u001b[1;33m]\u001b[0m\u001b[1;33m)\u001b[0m\u001b[1;33m\u001b[0m\u001b[1;33m\u001b[0m\u001b[0m\n\u001b[1;32m----> 2\u001b[1;33m \u001b[0mprint\u001b[0m\u001b[1;33m(\u001b[0m\u001b[0mrestaurant\u001b[0m\u001b[1;33m[\u001b[0m\u001b[1;34m'創業年分'\u001b[0m\u001b[1;33m]\u001b[0m\u001b[1;33m)\u001b[0m\u001b[1;33m\u001b[0m\u001b[1;33m\u001b[0m\u001b[0m\n\u001b[0m",
      "\u001b[1;31mKeyError\u001b[0m: '創業年分'"
     ]
    }
   ],
   "source": [
    "print(restaurant['年分'])\n",
    "print(restaurant['創業年分'])"
   ]
  },
  {
   "cell_type": "code",
   "execution_count": 97,
   "id": "033089b3",
   "metadata": {},
   "outputs": [
    {
     "name": "stdout",
     "output_type": "stream",
     "text": [
      "查詢:年分\n",
      "1959\n"
     ]
    }
   ],
   "source": [
    "key=input(\"查詢:\")\n",
    "if key in restaurant:\n",
    "    print(restaurant[key])\n",
    "else:\n",
    "    print('錯誤',key)"
   ]
  },
  {
   "cell_type": "code",
   "execution_count": 98,
   "id": "78269520",
   "metadata": {},
   "outputs": [
    {
     "name": "stdout",
     "output_type": "stream",
     "text": [
      "查詢:創業年分\n",
      "錯誤 創業年分\n"
     ]
    }
   ],
   "source": [
    "key=input(\"查詢:\")\n",
    "if key in restaurant:\n",
    "    print(restaurant[key])\n",
    "else:\n",
    "    print('錯誤',key)"
   ]
  },
  {
   "cell_type": "code",
   "execution_count": 99,
   "id": "28bf2df9",
   "metadata": {},
   "outputs": [
    {
     "name": "stdout",
     "output_type": "stream",
     "text": [
      "{'餐廳名稱': '蟹堡王', '年分': 1959, '業主': '蟹老闆', '餐廳地點': '比奇堡'}\n"
     ]
    }
   ],
   "source": [
    "restaurant.update({'餐廳地點':'比奇堡'})\n",
    "print(restaurant)"
   ]
  },
  {
   "cell_type": "code",
   "execution_count": 100,
   "id": "546026f3",
   "metadata": {},
   "outputs": [
    {
     "name": "stdout",
     "output_type": "stream",
     "text": [
      "{'餐廳名稱': '蟹堡王', '年分': 1959, '業主': '蟹老闆', '餐廳地點': '比奇堡', 'A': 1}\n"
     ]
    }
   ],
   "source": [
    "restaurant.update({'餐廳地點':'比奇堡','A':1})\n",
    "print(restaurant)"
   ]
  },
  {
   "cell_type": "code",
   "execution_count": 102,
   "id": "cbdae90b",
   "metadata": {},
   "outputs": [
    {
     "name": "stdout",
     "output_type": "stream",
     "text": [
      "骰子數:\n",
      "四\n"
     ]
    }
   ],
   "source": [
    "import random\n",
    "\n",
    "dict_points={1:'一',2:'二',3:'三',4:'四',5:'五',6:'六'}\n",
    "\n",
    "dice=random.randint(1,6)\n",
    "\n",
    "print(\"骰子數:\")\n",
    "print(dict_points[dice])"
   ]
  },
  {
   "cell_type": "markdown",
   "id": "33707554",
   "metadata": {},
   "source": [
    "tuple (元祖) : tuple元素是不能被改變的，強行改變會出現錯誤 & 用小括號"
   ]
  },
  {
   "cell_type": "code",
   "execution_count": 103,
   "id": "de762f4b",
   "metadata": {},
   "outputs": [
    {
     "name": "stdout",
     "output_type": "stream",
     "text": [
      "(1138, 101, 12, 300, 2049)\n",
      "<class 'tuple'>\n"
     ]
    }
   ],
   "source": [
    "expense=(1138,101,12,300,2049)\n",
    "\n",
    "print(expense)\n",
    "print(type(expense))"
   ]
  },
  {
   "cell_type": "code",
   "execution_count": 104,
   "id": "235ea137",
   "metadata": {},
   "outputs": [
    {
     "ename": "TypeError",
     "evalue": "'tuple' object does not support item assignment",
     "output_type": "error",
     "traceback": [
      "\u001b[1;31m---------------------------------------------------------------------------\u001b[0m",
      "\u001b[1;31mTypeError\u001b[0m                                 Traceback (most recent call last)",
      "\u001b[1;32m<ipython-input-104-32f1f6894919>\u001b[0m in \u001b[0;36m<module>\u001b[1;34m\u001b[0m\n\u001b[1;32m----> 1\u001b[1;33m \u001b[0mexpense\u001b[0m\u001b[1;33m[\u001b[0m\u001b[1;36m1\u001b[0m\u001b[1;33m]\u001b[0m\u001b[1;33m=\u001b[0m\u001b[1;36m999\u001b[0m\u001b[1;33m\u001b[0m\u001b[1;33m\u001b[0m\u001b[0m\n\u001b[0m",
      "\u001b[1;31mTypeError\u001b[0m: 'tuple' object does not support item assignment"
     ]
    }
   ],
   "source": [
    "expense[1]=999"
   ]
  },
  {
   "cell_type": "code",
   "execution_count": 105,
   "id": "c9f36370",
   "metadata": {},
   "outputs": [
    {
     "name": "stdout",
     "output_type": "stream",
     "text": [
      "{2049, 101, 12, 300, 1138}\n",
      "<class 'set'>\n"
     ]
    }
   ],
   "source": [
    "expense={1138,101,12,300,2049}\n",
    "\n",
    "print(expense)\n",
    "print(type(expense))"
   ]
  },
  {
   "cell_type": "markdown",
   "id": "379cb7c9",
   "metadata": {},
   "source": [
    "set : 只有鍵 沒有值 ； 集合沒有順序 都同等級 ； 只會給出不同數值"
   ]
  },
  {
   "cell_type": "code",
   "execution_count": 106,
   "id": "f1ec4ff7",
   "metadata": {},
   "outputs": [
    {
     "name": "stdout",
     "output_type": "stream",
     "text": [
      "{1, 2, 3, 4, 5}\n"
     ]
    }
   ],
   "source": [
    "s={1,1,1,2,2,3,5,4,5}\n",
    "\n",
    "print(s)"
   ]
  },
  {
   "cell_type": "code",
   "execution_count": 107,
   "id": "517d06ef",
   "metadata": {},
   "outputs": [
    {
     "name": "stdout",
     "output_type": "stream",
     "text": [
      "False\n",
      "True\n"
     ]
    }
   ],
   "source": [
    "print(8 in s)\n",
    "print(1 in s)"
   ]
  },
  {
   "cell_type": "code",
   "execution_count": 108,
   "id": "da1a5d2c",
   "metadata": {},
   "outputs": [
    {
     "name": "stdout",
     "output_type": "stream",
     "text": [
      "{1, 2, 3, 4, 5, 6, 7, 8, 9}\n",
      "{1, 3, 6}\n",
      "{2, 4, 5, 7, 8, 9}\n"
     ]
    }
   ],
   "source": [
    "a={1,3,5,6,7,9,}\n",
    "b={1,2,3,4,6,8}\n",
    "\n",
    "print(a|b)\n",
    "print(a&b)\n",
    "print(a^b)"
   ]
  },
  {
   "cell_type": "markdown",
   "id": "36590409",
   "metadata": {},
   "source": [
    "| : 聯集 ； & : 交集 ； ^ : 聯集減交集 (對稱差集)"
   ]
  },
  {
   "cell_type": "code",
   "execution_count": null,
   "id": "cbe0fe79",
   "metadata": {},
   "outputs": [],
   "source": []
  }
 ],
 "metadata": {
  "kernelspec": {
   "display_name": "Python 3",
   "language": "python",
   "name": "python3"
  },
  "language_info": {
   "codemirror_mode": {
    "name": "ipython",
    "version": 3
   },
   "file_extension": ".py",
   "mimetype": "text/x-python",
   "name": "python",
   "nbconvert_exporter": "python",
   "pygments_lexer": "ipython3",
   "version": "3.8.8"
  }
 },
 "nbformat": 4,
 "nbformat_minor": 5
}
